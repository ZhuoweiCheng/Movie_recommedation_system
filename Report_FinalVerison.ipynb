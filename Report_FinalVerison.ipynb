{
 "cells": [
  {
   "cell_type": "markdown",
   "metadata": {},
   "source": [
    "# A Hybrid Movie Recommendation System"
   ]
  },
  {
   "cell_type": "markdown",
   "metadata": {},
   "source": [
    "### Group members: Guanyu Chen, Zhuowei Cheng, Jingyi Xiao, Jing Xu"
   ]
  },
  {
   "cell_type": "markdown",
   "metadata": {},
   "source": [
    "## 1. Introduction"
   ]
  },
  {
   "cell_type": "markdown",
   "metadata": {},
   "source": [
    "Various data collection approaches expose people to massive information daily. Making decisions efficiently facing oceans of information for information receivers as well as distributing effective information to appropriate targets for information distributors is not an easy task. The recommendation system that utilizes the power of machines was proposed to select the most possible important information targeted for specific groups. The recommendation system is a way to predict users' preference on items and then conduct recommendation. The recommendation system has been everywhere such as Amazon's recommended items, Youtube's video suggestions, online shopping advertisement just to name a few. One prominent application of the recommendation system is movie recommender, which forecasts users' preference on movies with data depicting movie, user and their interaction.\n",
    "\n",
    "There are several primary types of movie recommender systems. A popularity based recommendation system offers suggestions based on overall user ratings and recommends movies with high ratings to users. The more popular a movie, the higher possibility of it being recommended. Content based recommender suggests similar movies to users according to a given movie. Similarity is often measured based on movie meta data such as genres, actors, directors, descriptions and so on. Another type, collaborative filtering, provides recommendation based on the match between users' interest. These recommendation systems have their own strengths and weakness. Thus, hybrid systems which contain at least two simple recommenders were proposed to overcome drawbacks of a single recommendation system. Advanced techniques such as neural network have also been used to build recommendation systems.\n",
    "\n",
    "This project focused on constructing an informative movie recommender to provide valuable movie suggestions tailored to specific users as well as considering movie contents and popularity."
   ]
  },
  {
   "cell_type": "markdown",
   "metadata": {},
   "source": [
    "## 2. Data"
   ]
  },
  {
   "cell_type": "markdown",
   "metadata": {},
   "source": [
    "The data we use are from TMDB datasets which contain around 5,000 movies and TV series (can be downloaded at https://www.kaggle.com/tmdb/tmdb-movie-metadata). The TMDB datasets include movie metadata (such as title, overview, genres, release date, revenues and so on), credits (including cast and crew information) and user ratings information.\n",
    "\n",
    "After data pre-processing, two dataframes `movies` and `ratings` are created. The dataframe `movies` characterizes movie properties such as movie titles, release dates, genres, keywords, overviews, taglines, casts, directors and others. The dataframe `ratings` contains user-movie interaction information, that is users' ratings. "
   ]
  },
  {
   "cell_type": "code",
   "execution_count": 1,
   "metadata": {},
   "outputs": [
    {
     "name": "stdout",
     "output_type": "stream",
     "text": [
      "Requirement already satisfied: seaborn in /anaconda3/lib/python3.7/site-packages (0.9.0)\n",
      "Requirement already satisfied: pandas>=0.15.2 in /anaconda3/lib/python3.7/site-packages (from seaborn) (0.23.4)\n",
      "Requirement already satisfied: scipy>=0.14.0 in /anaconda3/lib/python3.7/site-packages (from seaborn) (1.1.0)\n",
      "Requirement already satisfied: numpy>=1.9.3 in /anaconda3/lib/python3.7/site-packages (from seaborn) (1.15.4)\n",
      "Requirement already satisfied: matplotlib>=1.4.3 in /anaconda3/lib/python3.7/site-packages (from seaborn) (3.0.2)\n",
      "Requirement already satisfied: python-dateutil>=2.5.0 in /anaconda3/lib/python3.7/site-packages (from pandas>=0.15.2->seaborn) (2.7.5)\n",
      "Requirement already satisfied: pytz>=2011k in /anaconda3/lib/python3.7/site-packages (from pandas>=0.15.2->seaborn) (2018.7)\n",
      "Requirement already satisfied: cycler>=0.10 in /anaconda3/lib/python3.7/site-packages (from matplotlib>=1.4.3->seaborn) (0.10.0)\n",
      "Requirement already satisfied: kiwisolver>=1.0.1 in /anaconda3/lib/python3.7/site-packages (from matplotlib>=1.4.3->seaborn) (1.0.1)\n",
      "Requirement already satisfied: pyparsing!=2.0.4,!=2.1.2,!=2.1.6,>=2.0.1 in /anaconda3/lib/python3.7/site-packages (from matplotlib>=1.4.3->seaborn) (2.3.0)\n",
      "Requirement already satisfied: six>=1.5 in /anaconda3/lib/python3.7/site-packages (from python-dateutil>=2.5.0->pandas>=0.15.2->seaborn) (1.12.0)\n",
      "Requirement already satisfied: setuptools in /anaconda3/lib/python3.7/site-packages (from kiwisolver>=1.0.1->matplotlib>=1.4.3->seaborn) (40.6.3)\n"
     ]
    }
   ],
   "source": [
    "# !pip install --upgrade pip\n",
    "!pip install seaborn"
   ]
  },
  {
   "cell_type": "code",
   "execution_count": 18,
   "metadata": {},
   "outputs": [
    {
     "name": "stdout",
     "output_type": "stream",
     "text": [
      "xcrun: error: invalid active developer path (/Library/Developer/CommandLineTools), missing xcrun at: /Library/Developer/CommandLineTools/usr/bin/xcrun\n",
      "/bin/sh: line 0: cd: surprise: No such file or directory\n",
      "python: can't open file 'setup.py': [Errno 2] No such file or directory\n",
      "/bin/sh: conda: command not found\n"
     ]
    }
   ],
   "source": [
    "# !pip install numpy cython\n",
    "!git clone https://github.com/NicolasHug/surprise.git\n",
    "!cd surprise\n",
    "!python setup.py install\n",
    "# !pip install surprise\n",
    "# !pip install wordcloud\n",
    "# !conda install -c conda-forge scikit-surprise"
   ]
  },
  {
   "cell_type": "code",
   "execution_count": 84,
   "metadata": {},
   "outputs": [],
   "source": [
    "%matplotlib inline\n",
    "import pandas as pd ## call pandas functions using \"pd\"\n",
    "import numpy as np  ## call numpy functions using \"np\"\n",
    "import matplotlib.pyplot as plt\n",
    "from ast import literal_eval\n",
    "import ast\n",
    "import seaborn as sns\n",
    "from scipy import stats\n",
    "from datetime import datetime\n",
    "from IPython.display import Markdown\n",
    "from os.path import join\n",
    "from os.path import exists\n",
    "import function as f\n",
    "from wordcloud import WordCloud\n",
    "from sklearn.feature_extraction.text import TfidfVectorizer\n",
    "from sklearn.feature_extraction.text import CountVectorizer\n",
    "from sklearn.metrics.pairwise import cosine_similarity\n",
    "import random\n",
    "from surprise import Reader, Dataset, SVD, evaluate\n",
    "from surprise.model_selection import GridSearchCV\n",
    "from surprise.model_selection import cross_validate\n",
    "from surprise.model_selection import train_test_split\n",
    "from surprise import accuracy\n",
    "from datetime import datetime\n",
    "from IPython.display import Markdown\n",
    "from IPython.display import Image"
   ]
  },
  {
   "cell_type": "markdown",
   "metadata": {},
   "source": [
    "Read in movie information and conduct preprocessing."
   ]
  },
  {
   "cell_type": "code",
   "execution_count": 4,
   "metadata": {
    "scrolled": true
   },
   "outputs": [
    {
     "name": "stderr",
     "output_type": "stream",
     "text": [
      "/anaconda3/lib/python3.7/site-packages/IPython/core/interactiveshell.py:3020: DtypeWarning: Columns (10) have mixed types. Specify dtype option on import or set low_memory=False.\n",
      "  interactivity=interactivity, compiler=compiler, result=result)\n"
     ]
    }
   ],
   "source": [
    "movie_meta = pd.read_csv(\"Data/movies_metadata.csv\")\n",
    "link = pd.read_csv('Data/links_small.csv')\n",
    "keywords = pd.read_csv('Data/keywords.csv')\n",
    "credits = pd.read_csv('Data/credits.csv')"
   ]
  },
  {
   "cell_type": "markdown",
   "metadata": {},
   "source": [
    "`f` is a python module that we created to preprocess the data. It consists of various functions, for instance, to join `pandas` data frames, get values from a dictionary, text clean, drop duplicates and etc. \n",
    "\n",
    "`movies` below is the data frame that we will work on for the rest of the report."
   ]
  },
  {
   "cell_type": "code",
   "execution_count": 5,
   "metadata": {},
   "outputs": [],
   "source": [
    "movies = f.create_movie(movie_meta, link, keywords, credits)\n",
    "movies.index = range(len(movies))\n",
    "movies['popularity'] = movies['popularity'].astype(float)\n",
    "links_small = link[link['tmdbId'].notnull()]['tmdbId'].astype('int')"
   ]
  },
  {
   "cell_type": "markdown",
   "metadata": {},
   "source": [
    "There are 9082 movie items and 15 attributes in `movies`. "
   ]
  },
  {
   "cell_type": "code",
   "execution_count": 6,
   "metadata": {},
   "outputs": [
    {
     "data": {
      "text/plain": [
       "(9082, 15)"
      ]
     },
     "execution_count": 6,
     "metadata": {},
     "output_type": "execute_result"
    }
   ],
   "source": [
    "movies.shape"
   ]
  },
  {
   "cell_type": "code",
   "execution_count": 7,
   "metadata": {},
   "outputs": [
    {
     "data": {
      "text/plain": [
       "Index(['id', 'title', 'popularity', 'vote_count', 'vote_average',\n",
       "       'release_date', 'genres', 'keywords', 'original_language', 'overview',\n",
       "       'production_companies', 'tagline', 'cast', 'director', 'features'],\n",
       "      dtype='object')"
      ]
     },
     "execution_count": 7,
     "metadata": {},
     "output_type": "execute_result"
    }
   ],
   "source": [
    "movies.columns"
   ]
  },
  {
   "cell_type": "markdown",
   "metadata": {},
   "source": [
    "Read rating data and conduct preprocessing."
   ]
  },
  {
   "cell_type": "code",
   "execution_count": 8,
   "metadata": {},
   "outputs": [],
   "source": [
    "# read rating data and preprocessing\n",
    "ratings = pd.read_csv('Data/ratings_small.csv')\n",
    "ratings['timestamp'] = ratings['timestamp'].apply(datetime.fromtimestamp)\n",
    "ratings['year'] = ratings['timestamp'].dt.year\n",
    "ratings['month'] = ratings['timestamp'].dt.month\n",
    "# ratings.head()\n",
    "\n",
    "# sort data by timestamp\n",
    "ratings = ratings.sort_values('timestamp')\n",
    "# ratings.head()"
   ]
  },
  {
   "cell_type": "code",
   "execution_count": 9,
   "metadata": {},
   "outputs": [
    {
     "data": {
      "text/plain": [
       "Index(['userId', 'movieId', 'rating', 'timestamp', 'year', 'month'], dtype='object')"
      ]
     },
     "execution_count": 9,
     "metadata": {},
     "output_type": "execute_result"
    }
   ],
   "source": [
    "ratings.columns"
   ]
  },
  {
   "cell_type": "markdown",
   "metadata": {},
   "source": [
    "Create a search table `combine_df` to link movie titles, *tmdbId* from `movies` and *id* from `ratings`."
   ]
  },
  {
   "cell_type": "code",
   "execution_count": 10,
   "metadata": {},
   "outputs": [
    {
     "data": {
      "text/html": [
       "<div>\n",
       "<style scoped>\n",
       "    .dataframe tbody tr th:only-of-type {\n",
       "        vertical-align: middle;\n",
       "    }\n",
       "\n",
       "    .dataframe tbody tr th {\n",
       "        vertical-align: top;\n",
       "    }\n",
       "\n",
       "    .dataframe thead th {\n",
       "        text-align: right;\n",
       "    }\n",
       "</style>\n",
       "<table border=\"1\" class=\"dataframe\">\n",
       "  <thead>\n",
       "    <tr style=\"text-align: right;\">\n",
       "      <th></th>\n",
       "      <th>movieId</th>\n",
       "      <th>imdbId</th>\n",
       "      <th>tmdbId</th>\n",
       "      <th>title</th>\n",
       "    </tr>\n",
       "  </thead>\n",
       "  <tbody>\n",
       "    <tr>\n",
       "      <th>0</th>\n",
       "      <td>1</td>\n",
       "      <td>114709</td>\n",
       "      <td>862</td>\n",
       "      <td>Toy Story</td>\n",
       "    </tr>\n",
       "    <tr>\n",
       "      <th>1</th>\n",
       "      <td>2</td>\n",
       "      <td>113497</td>\n",
       "      <td>8844</td>\n",
       "      <td>Jumanji</td>\n",
       "    </tr>\n",
       "    <tr>\n",
       "      <th>2</th>\n",
       "      <td>3</td>\n",
       "      <td>113228</td>\n",
       "      <td>15602</td>\n",
       "      <td>Grumpier Old Men</td>\n",
       "    </tr>\n",
       "    <tr>\n",
       "      <th>3</th>\n",
       "      <td>4</td>\n",
       "      <td>114885</td>\n",
       "      <td>31357</td>\n",
       "      <td>Waiting to Exhale</td>\n",
       "    </tr>\n",
       "    <tr>\n",
       "      <th>4</th>\n",
       "      <td>5</td>\n",
       "      <td>113041</td>\n",
       "      <td>11862</td>\n",
       "      <td>Father of the Bride Part II</td>\n",
       "    </tr>\n",
       "  </tbody>\n",
       "</table>\n",
       "</div>"
      ],
      "text/plain": [
       "   movieId  imdbId  tmdbId                        title\n",
       "0        1  114709     862                    Toy Story\n",
       "1        2  113497    8844                      Jumanji\n",
       "2        3  113228   15602             Grumpier Old Men\n",
       "3        4  114885   31357            Waiting to Exhale\n",
       "4        5  113041   11862  Father of the Bride Part II"
      ]
     },
     "execution_count": 10,
     "metadata": {},
     "output_type": "execute_result"
    }
   ],
   "source": [
    "movies_title = movie_meta.loc[movie_meta.title.drop_duplicates().index]\n",
    "movies_subset = (movies_title.loc[:, ['id', 'title']].copy().\n",
    "                 rename(index=str, columns={\"id\": \"tmdbId\", \"title\": \"title\"}))\n",
    "# create the searching table\n",
    "df = link.loc[links_small.index]\n",
    "df.tmdbId = df.tmdbId.astype('int64')\n",
    "combine_df = df.join(movies_subset.set_index('tmdbId'), on = 'tmdbId', how = 'inner')\n",
    "combine_df.head()"
   ]
  },
  {
   "cell_type": "code",
   "execution_count": 11,
   "metadata": {},
   "outputs": [],
   "source": [
    "del movies_title, movies_subset, df, keywords, credits"
   ]
  },
  {
   "cell_type": "markdown",
   "metadata": {},
   "source": [
    "Here, a few virtual users are created to test the final hybrid recommender."
   ]
  },
  {
   "cell_type": "code",
   "execution_count": 12,
   "metadata": {},
   "outputs": [],
   "source": [
    "# test data\n",
    "user1 = [12324, {\"Toy Story\": 4, \"Grumpier Old Men\":3.5, \"Waiting to Exhale\": 4, \n",
    "                 'Sabrina': 3.5, 'Heat': 2, 'Money Train':2.5}]\n",
    "user2 = [307, {\"The Endless Summer\": 4, \"East of Eden\":3, \"Rio Bravo\": 4, \n",
    "                 'The Bridges of Madison County': 3.5, 'Dead Man Walking': 2}]\n",
    "user3 = [233333, {\"The Endless Summer\": 4, \"East of Eden\":3, \"Rio Bravo\": 4, \n",
    "                 'The Bridges of Madison County': 3.5, 'Dead Man Walking': 2}]\n",
    "user4 = [233333, {\"d\": 4, \"dasfsaf\":3, \"ddd\": 4, \n",
    "                 'aaa': 3.5, 'cccccc': 2}]"
   ]
  },
  {
   "cell_type": "markdown",
   "metadata": {},
   "source": [
    "## 3. EDA"
   ]
  },
  {
   "cell_type": "markdown",
   "metadata": {},
   "source": [
    "A brief numeric summary of `movies` shows that the average votes is 6.36 on a scale of 0-10 with a standard deviation of 1.04. There are averagely 439.05 votes for a movie. The high standard deviation of `vote_count`, 996.16, shows the great variability of vote counts. "
   ]
  },
  {
   "cell_type": "code",
   "execution_count": 13,
   "metadata": {
    "scrolled": true
   },
   "outputs": [
    {
     "data": {
      "text/html": [
       "<div>\n",
       "<style scoped>\n",
       "    .dataframe tbody tr th:only-of-type {\n",
       "        vertical-align: middle;\n",
       "    }\n",
       "\n",
       "    .dataframe tbody tr th {\n",
       "        vertical-align: top;\n",
       "    }\n",
       "\n",
       "    .dataframe thead th {\n",
       "        text-align: right;\n",
       "    }\n",
       "</style>\n",
       "<table border=\"1\" class=\"dataframe\">\n",
       "  <thead>\n",
       "    <tr style=\"text-align: right;\">\n",
       "      <th></th>\n",
       "      <th>id</th>\n",
       "      <th>popularity</th>\n",
       "      <th>vote_count</th>\n",
       "      <th>vote_average</th>\n",
       "    </tr>\n",
       "  </thead>\n",
       "  <tbody>\n",
       "    <tr>\n",
       "      <th>count</th>\n",
       "      <td>9082.000000</td>\n",
       "      <td>9082.000000</td>\n",
       "      <td>9082.000000</td>\n",
       "      <td>9082.000000</td>\n",
       "    </tr>\n",
       "    <tr>\n",
       "      <th>mean</th>\n",
       "      <td>38710.463885</td>\n",
       "      <td>7.268905</td>\n",
       "      <td>439.050870</td>\n",
       "      <td>6.362178</td>\n",
       "    </tr>\n",
       "    <tr>\n",
       "      <th>std</th>\n",
       "      <td>62123.411079</td>\n",
       "      <td>9.372314</td>\n",
       "      <td>996.156492</td>\n",
       "      <td>1.038748</td>\n",
       "    </tr>\n",
       "    <tr>\n",
       "      <th>min</th>\n",
       "      <td>2.000000</td>\n",
       "      <td>0.000004</td>\n",
       "      <td>0.000000</td>\n",
       "      <td>0.000000</td>\n",
       "    </tr>\n",
       "    <tr>\n",
       "      <th>25%</th>\n",
       "      <td>9446.250000</td>\n",
       "      <td>2.954521</td>\n",
       "      <td>29.000000</td>\n",
       "      <td>5.800000</td>\n",
       "    </tr>\n",
       "    <tr>\n",
       "      <th>50%</th>\n",
       "      <td>15775.000000</td>\n",
       "      <td>6.418871</td>\n",
       "      <td>96.000000</td>\n",
       "      <td>6.500000</td>\n",
       "    </tr>\n",
       "    <tr>\n",
       "      <th>75%</th>\n",
       "      <td>39010.250000</td>\n",
       "      <td>9.861742</td>\n",
       "      <td>365.750000</td>\n",
       "      <td>7.000000</td>\n",
       "    </tr>\n",
       "    <tr>\n",
       "      <th>max</th>\n",
       "      <td>416437.000000</td>\n",
       "      <td>547.488298</td>\n",
       "      <td>14075.000000</td>\n",
       "      <td>10.000000</td>\n",
       "    </tr>\n",
       "  </tbody>\n",
       "</table>\n",
       "</div>"
      ],
      "text/plain": [
       "                  id   popularity    vote_count  vote_average\n",
       "count    9082.000000  9082.000000   9082.000000   9082.000000\n",
       "mean    38710.463885     7.268905    439.050870      6.362178\n",
       "std     62123.411079     9.372314    996.156492      1.038748\n",
       "min         2.000000     0.000004      0.000000      0.000000\n",
       "25%      9446.250000     2.954521     29.000000      5.800000\n",
       "50%     15775.000000     6.418871     96.000000      6.500000\n",
       "75%     39010.250000     9.861742    365.750000      7.000000\n",
       "max    416437.000000   547.488298  14075.000000     10.000000"
      ]
     },
     "execution_count": 13,
     "metadata": {},
     "output_type": "execute_result"
    }
   ],
   "source": [
    "# summary\n",
    "movies.describe()"
   ]
  },
  {
   "cell_type": "code",
   "execution_count": 14,
   "metadata": {},
   "outputs": [],
   "source": [
    "temp = movies.copy()"
   ]
  },
  {
   "cell_type": "markdown",
   "metadata": {},
   "source": [
    "### Genres"
   ]
  },
  {
   "cell_type": "markdown",
   "metadata": {},
   "source": [
    "One variable that can be interesting to explore is `genres`. How many genres are there in the dataset? How many movies in each genre? Does popularity change by genre frequency? \n",
    "\n",
    "First the number of genres is extracted."
   ]
  },
  {
   "cell_type": "code",
   "execution_count": 15,
   "metadata": {},
   "outputs": [
    {
     "data": {
      "text/plain": [
       "20"
      ]
     },
     "execution_count": 15,
     "metadata": {},
     "output_type": "execute_result"
    }
   ],
   "source": [
    "s = temp.apply(lambda x: pd.Series(x['genres']),axis=1).stack().reset_index(level=1, drop=True)\n",
    "s.name = 'genre'\n",
    "genres_df = temp.drop('genres', axis=1).join(s)\n",
    "genres_df['genre'].value_counts().shape[0]"
   ]
  },
  {
   "cell_type": "markdown",
   "metadata": {},
   "source": [
    "Counts for each genre are showed below."
   ]
  },
  {
   "cell_type": "code",
   "execution_count": 16,
   "metadata": {},
   "outputs": [
    {
     "data": {
      "text/html": [
       "<div>\n",
       "<style scoped>\n",
       "    .dataframe tbody tr th:only-of-type {\n",
       "        vertical-align: middle;\n",
       "    }\n",
       "\n",
       "    .dataframe tbody tr th {\n",
       "        vertical-align: top;\n",
       "    }\n",
       "\n",
       "    .dataframe thead th {\n",
       "        text-align: right;\n",
       "    }\n",
       "</style>\n",
       "<table border=\"1\" class=\"dataframe\">\n",
       "  <thead>\n",
       "    <tr style=\"text-align: right;\">\n",
       "      <th></th>\n",
       "      <th>genre</th>\n",
       "      <th>movies</th>\n",
       "    </tr>\n",
       "  </thead>\n",
       "  <tbody>\n",
       "    <tr>\n",
       "      <th>0</th>\n",
       "      <td>drama</td>\n",
       "      <td>4644</td>\n",
       "    </tr>\n",
       "    <tr>\n",
       "      <th>1</th>\n",
       "      <td>comedy</td>\n",
       "      <td>3373</td>\n",
       "    </tr>\n",
       "    <tr>\n",
       "      <th>2</th>\n",
       "      <td>thriller</td>\n",
       "      <td>1989</td>\n",
       "    </tr>\n",
       "    <tr>\n",
       "      <th>3</th>\n",
       "      <td>romance</td>\n",
       "      <td>1834</td>\n",
       "    </tr>\n",
       "    <tr>\n",
       "      <th>4</th>\n",
       "      <td>action</td>\n",
       "      <td>1752</td>\n",
       "    </tr>\n",
       "    <tr>\n",
       "      <th>5</th>\n",
       "      <td>crime</td>\n",
       "      <td>1255</td>\n",
       "    </tr>\n",
       "    <tr>\n",
       "      <th>6</th>\n",
       "      <td>adventure</td>\n",
       "      <td>1197</td>\n",
       "    </tr>\n",
       "    <tr>\n",
       "      <th>7</th>\n",
       "      <td>horror</td>\n",
       "      <td>916</td>\n",
       "    </tr>\n",
       "    <tr>\n",
       "      <th>8</th>\n",
       "      <td>family</td>\n",
       "      <td>851</td>\n",
       "    </tr>\n",
       "    <tr>\n",
       "      <th>9</th>\n",
       "      <td>science fiction</td>\n",
       "      <td>850</td>\n",
       "    </tr>\n",
       "    <tr>\n",
       "      <th>10</th>\n",
       "      <td>fantasy</td>\n",
       "      <td>743</td>\n",
       "    </tr>\n",
       "    <tr>\n",
       "      <th>11</th>\n",
       "      <td>mystery</td>\n",
       "      <td>649</td>\n",
       "    </tr>\n",
       "    <tr>\n",
       "      <th>12</th>\n",
       "      <td>documentary</td>\n",
       "      <td>463</td>\n",
       "    </tr>\n",
       "    <tr>\n",
       "      <th>13</th>\n",
       "      <td>music</td>\n",
       "      <td>448</td>\n",
       "    </tr>\n",
       "    <tr>\n",
       "      <th>14</th>\n",
       "      <td>animation</td>\n",
       "      <td>440</td>\n",
       "    </tr>\n",
       "    <tr>\n",
       "      <th>15</th>\n",
       "      <td>history</td>\n",
       "      <td>344</td>\n",
       "    </tr>\n",
       "    <tr>\n",
       "      <th>16</th>\n",
       "      <td>war</td>\n",
       "      <td>267</td>\n",
       "    </tr>\n",
       "    <tr>\n",
       "      <th>17</th>\n",
       "      <td>western</td>\n",
       "      <td>170</td>\n",
       "    </tr>\n",
       "    <tr>\n",
       "      <th>18</th>\n",
       "      <td>foreign</td>\n",
       "      <td>102</td>\n",
       "    </tr>\n",
       "    <tr>\n",
       "      <th>19</th>\n",
       "      <td>tv movie</td>\n",
       "      <td>36</td>\n",
       "    </tr>\n",
       "  </tbody>\n",
       "</table>\n",
       "</div>"
      ],
      "text/plain": [
       "              genre  movies\n",
       "0             drama    4644\n",
       "1            comedy    3373\n",
       "2          thriller    1989\n",
       "3           romance    1834\n",
       "4            action    1752\n",
       "5             crime    1255\n",
       "6         adventure    1197\n",
       "7            horror     916\n",
       "8            family     851\n",
       "9   science fiction     850\n",
       "10          fantasy     743\n",
       "11          mystery     649\n",
       "12      documentary     463\n",
       "13            music     448\n",
       "14        animation     440\n",
       "15          history     344\n",
       "16              war     267\n",
       "17          western     170\n",
       "18          foreign     102\n",
       "19         tv movie      36"
      ]
     },
     "execution_count": 16,
     "metadata": {},
     "output_type": "execute_result"
    }
   ],
   "source": [
    "genres_counts = pd.DataFrame(genres_df['genre'].value_counts()).reset_index()\n",
    "genres_counts.columns = ['genre', 'movies']\n",
    "genres_counts"
   ]
  },
  {
   "cell_type": "markdown",
   "metadata": {},
   "source": [
    "Does popularity change by genre frequency? The conditional boxplot shows that popularity does not change by genre frequency. Apparently, the genre 'Foreign' is clearly less popular, but there are no obvious differences in popularity among different genres."
   ]
  },
  {
   "cell_type": "code",
   "execution_count": 17,
   "metadata": {},
   "outputs": [
    {
     "data": {
      "image/png": "[encoded data removed]",
      "text/plain": [
       "<Figure size 1296x576 with 1 Axes>"
      ]
     },
     "metadata": {
      "needs_background": "light"
     },
     "output_type": "display_data"
    }
   ],
   "source": [
    "top_genres=['drama', 'comedy', 'thriller', 'romance', 'action', 'history',  'war', 'western', 'foreign', 'tv movie']\n",
    "plt.figure(figsize=(18,8))\n",
    "sns.boxplot(x='genre', y='popularity', data=genres_df[(genres_df['genre'].isin(top_genres))], palette=\"bright\")\n",
    "plt.ylim(0,150)\n",
    "plt.show()"
   ]
  },
  {
   "cell_type": "markdown",
   "metadata": {},
   "source": [
    "### Directors"
   ]
  },
  {
   "cell_type": "markdown",
   "metadata": {},
   "source": [
    "Director information can be useful. The top 10 productive directors are listed below. "
   ]
  },
  {
   "cell_type": "code",
   "execution_count": 18,
   "metadata": {},
   "outputs": [
    {
     "data": {
      "text/html": [
       "<div>\n",
       "<style scoped>\n",
       "    .dataframe tbody tr th:only-of-type {\n",
       "        vertical-align: middle;\n",
       "    }\n",
       "\n",
       "    .dataframe tbody tr th {\n",
       "        vertical-align: top;\n",
       "    }\n",
       "\n",
       "    .dataframe thead th {\n",
       "        text-align: right;\n",
       "    }\n",
       "</style>\n",
       "<table border=\"1\" class=\"dataframe\">\n",
       "  <thead>\n",
       "    <tr style=\"text-align: right;\">\n",
       "      <th></th>\n",
       "      <th>director</th>\n",
       "      <th>movies</th>\n",
       "    </tr>\n",
       "  </thead>\n",
       "  <tbody>\n",
       "    <tr>\n",
       "      <th>0</th>\n",
       "      <td>woody_allen</td>\n",
       "      <td>42</td>\n",
       "    </tr>\n",
       "    <tr>\n",
       "      <th>1</th>\n",
       "      <td>alfred_hitchcock</td>\n",
       "      <td>38</td>\n",
       "    </tr>\n",
       "    <tr>\n",
       "      <th>2</th>\n",
       "      <td>steven_spielberg</td>\n",
       "      <td>30</td>\n",
       "    </tr>\n",
       "    <tr>\n",
       "      <th>3</th>\n",
       "      <td>clint_eastwood</td>\n",
       "      <td>30</td>\n",
       "    </tr>\n",
       "    <tr>\n",
       "      <th>4</th>\n",
       "      <td>martin_scorsese</td>\n",
       "      <td>29</td>\n",
       "    </tr>\n",
       "    <tr>\n",
       "      <th>5</th>\n",
       "      <td>steven_soderbergh</td>\n",
       "      <td>25</td>\n",
       "    </tr>\n",
       "    <tr>\n",
       "      <th>6</th>\n",
       "      <td>sidney_lumet</td>\n",
       "      <td>25</td>\n",
       "    </tr>\n",
       "    <tr>\n",
       "      <th>7</th>\n",
       "      <td></td>\n",
       "      <td>24</td>\n",
       "    </tr>\n",
       "    <tr>\n",
       "      <th>8</th>\n",
       "      <td>robert_altman</td>\n",
       "      <td>23</td>\n",
       "    </tr>\n",
       "    <tr>\n",
       "      <th>9</th>\n",
       "      <td>werner_herzog</td>\n",
       "      <td>23</td>\n",
       "    </tr>\n",
       "  </tbody>\n",
       "</table>\n",
       "</div>"
      ],
      "text/plain": [
       "            director  movies\n",
       "0        woody_allen      42\n",
       "1   alfred_hitchcock      38\n",
       "2   steven_spielberg      30\n",
       "3     clint_eastwood      30\n",
       "4    martin_scorsese      29\n",
       "5  steven_soderbergh      25\n",
       "6       sidney_lumet      25\n",
       "7                         24\n",
       "8      robert_altman      23\n",
       "9      werner_herzog      23"
      ]
     },
     "execution_count": 18,
     "metadata": {},
     "output_type": "execute_result"
    }
   ],
   "source": [
    "temp['director'].value_counts().shape[0]\n",
    "temp['director'].value_counts()\n",
    "genres_counts = pd.DataFrame(temp['director'].value_counts()).reset_index()\n",
    "genres_counts.columns = ['director', 'movies']\n",
    "genres_counts.head(10)"
   ]
  },
  {
   "cell_type": "code",
   "execution_count": 19,
   "metadata": {},
   "outputs": [],
   "source": [
    "sim_director1 = temp[temp['director']=='woody_allen']\n",
    "sim_director2 = temp[temp['director']=='alfred_hitchcock']\n",
    "sim_director3 = temp[temp['director']=='clint_eastwood']"
   ]
  },
  {
   "cell_type": "markdown",
   "metadata": {},
   "source": [
    "Do movies from the same director usually have similar `vote_count` and `vote_average`? Here, the top 3 directors are investigated. In general, the standard deviations of `vote_count` and `vote_average` of each director are smaller than the overall standard deviations. This means that movies from the same director are more likely to receive similar ratings. The top 3 directors also receive higher average ratings (i.e. `vote_average`) than average."
   ]
  },
  {
   "cell_type": "code",
   "execution_count": 20,
   "metadata": {},
   "outputs": [
    {
     "data": {
      "text/html": [
       "<div>\n",
       "<style scoped>\n",
       "    .dataframe tbody tr th:only-of-type {\n",
       "        vertical-align: middle;\n",
       "    }\n",
       "\n",
       "    .dataframe tbody tr th {\n",
       "        vertical-align: top;\n",
       "    }\n",
       "\n",
       "    .dataframe thead th {\n",
       "        text-align: right;\n",
       "    }\n",
       "</style>\n",
       "<table border=\"1\" class=\"dataframe\">\n",
       "  <thead>\n",
       "    <tr style=\"text-align: right;\">\n",
       "      <th></th>\n",
       "      <th>id</th>\n",
       "      <th>popularity</th>\n",
       "      <th>vote_count</th>\n",
       "      <th>vote_average</th>\n",
       "    </tr>\n",
       "  </thead>\n",
       "  <tbody>\n",
       "    <tr>\n",
       "      <th>count</th>\n",
       "      <td>42.000000</td>\n",
       "      <td>42.000000</td>\n",
       "      <td>42.000000</td>\n",
       "      <td>42.000000</td>\n",
       "    </tr>\n",
       "    <tr>\n",
       "      <th>mean</th>\n",
       "      <td>29483.904762</td>\n",
       "      <td>8.108443</td>\n",
       "      <td>337.666667</td>\n",
       "      <td>6.783333</td>\n",
       "    </tr>\n",
       "    <tr>\n",
       "      <th>std</th>\n",
       "      <td>58308.797157</td>\n",
       "      <td>2.997750</td>\n",
       "      <td>407.496321</td>\n",
       "      <td>0.539158</td>\n",
       "    </tr>\n",
       "    <tr>\n",
       "      <th>min</th>\n",
       "      <td>116.000000</td>\n",
       "      <td>2.916982</td>\n",
       "      <td>49.000000</td>\n",
       "      <td>5.600000</td>\n",
       "    </tr>\n",
       "    <tr>\n",
       "      <th>25%</th>\n",
       "      <td>9520.500000</td>\n",
       "      <td>5.968568</td>\n",
       "      <td>113.250000</td>\n",
       "      <td>6.425000</td>\n",
       "    </tr>\n",
       "    <tr>\n",
       "      <th>50%</th>\n",
       "      <td>11319.500000</td>\n",
       "      <td>7.504731</td>\n",
       "      <td>172.500000</td>\n",
       "      <td>6.750000</td>\n",
       "    </tr>\n",
       "    <tr>\n",
       "      <th>75%</th>\n",
       "      <td>18366.750000</td>\n",
       "      <td>9.576351</td>\n",
       "      <td>337.250000</td>\n",
       "      <td>7.175000</td>\n",
       "    </tr>\n",
       "    <tr>\n",
       "      <th>max</th>\n",
       "      <td>282984.000000</td>\n",
       "      <td>18.146043</td>\n",
       "      <td>2049.000000</td>\n",
       "      <td>7.800000</td>\n",
       "    </tr>\n",
       "  </tbody>\n",
       "</table>\n",
       "</div>"
      ],
      "text/plain": [
       "                  id  popularity   vote_count  vote_average\n",
       "count      42.000000   42.000000    42.000000     42.000000\n",
       "mean    29483.904762    8.108443   337.666667      6.783333\n",
       "std     58308.797157    2.997750   407.496321      0.539158\n",
       "min       116.000000    2.916982    49.000000      5.600000\n",
       "25%      9520.500000    5.968568   113.250000      6.425000\n",
       "50%     11319.500000    7.504731   172.500000      6.750000\n",
       "75%     18366.750000    9.576351   337.250000      7.175000\n",
       "max    282984.000000   18.146043  2049.000000      7.800000"
      ]
     },
     "execution_count": 20,
     "metadata": {},
     "output_type": "execute_result"
    }
   ],
   "source": [
    "sim_director1.describe()"
   ]
  },
  {
   "cell_type": "code",
   "execution_count": 21,
   "metadata": {},
   "outputs": [
    {
     "data": {
      "text/html": [
       "<div>\n",
       "<style scoped>\n",
       "    .dataframe tbody tr th:only-of-type {\n",
       "        vertical-align: middle;\n",
       "    }\n",
       "\n",
       "    .dataframe tbody tr th {\n",
       "        vertical-align: top;\n",
       "    }\n",
       "\n",
       "    .dataframe thead th {\n",
       "        text-align: right;\n",
       "    }\n",
       "</style>\n",
       "<table border=\"1\" class=\"dataframe\">\n",
       "  <thead>\n",
       "    <tr style=\"text-align: right;\">\n",
       "      <th></th>\n",
       "      <th>id</th>\n",
       "      <th>popularity</th>\n",
       "      <th>vote_count</th>\n",
       "      <th>vote_average</th>\n",
       "    </tr>\n",
       "  </thead>\n",
       "  <tbody>\n",
       "    <tr>\n",
       "      <th>count</th>\n",
       "      <td>38.000000</td>\n",
       "      <td>38.000000</td>\n",
       "      <td>38.000000</td>\n",
       "      <td>38.000000</td>\n",
       "    </tr>\n",
       "    <tr>\n",
       "      <th>mean</th>\n",
       "      <td>9577.710526</td>\n",
       "      <td>8.061629</td>\n",
       "      <td>326.421053</td>\n",
       "      <td>7.018421</td>\n",
       "    </tr>\n",
       "    <tr>\n",
       "      <th>std</th>\n",
       "      <td>11760.094693</td>\n",
       "      <td>6.251144</td>\n",
       "      <td>492.371406</td>\n",
       "      <td>0.743932</td>\n",
       "    </tr>\n",
       "    <tr>\n",
       "      <th>min</th>\n",
       "      <td>213.000000</td>\n",
       "      <td>1.581063</td>\n",
       "      <td>16.000000</td>\n",
       "      <td>5.300000</td>\n",
       "    </tr>\n",
       "    <tr>\n",
       "      <th>25%</th>\n",
       "      <td>549.000000</td>\n",
       "      <td>4.862289</td>\n",
       "      <td>60.250000</td>\n",
       "      <td>6.700000</td>\n",
       "    </tr>\n",
       "    <tr>\n",
       "      <th>50%</th>\n",
       "      <td>3467.000000</td>\n",
       "      <td>6.447605</td>\n",
       "      <td>146.000000</td>\n",
       "      <td>7.150000</td>\n",
       "    </tr>\n",
       "    <tr>\n",
       "      <th>75%</th>\n",
       "      <td>14585.500000</td>\n",
       "      <td>9.122593</td>\n",
       "      <td>333.500000</td>\n",
       "      <td>7.500000</td>\n",
       "    </tr>\n",
       "    <tr>\n",
       "      <th>max</th>\n",
       "      <td>36049.000000</td>\n",
       "      <td>36.826309</td>\n",
       "      <td>2405.000000</td>\n",
       "      <td>8.300000</td>\n",
       "    </tr>\n",
       "  </tbody>\n",
       "</table>\n",
       "</div>"
      ],
      "text/plain": [
       "                 id  popularity   vote_count  vote_average\n",
       "count     38.000000   38.000000    38.000000     38.000000\n",
       "mean    9577.710526    8.061629   326.421053      7.018421\n",
       "std    11760.094693    6.251144   492.371406      0.743932\n",
       "min      213.000000    1.581063    16.000000      5.300000\n",
       "25%      549.000000    4.862289    60.250000      6.700000\n",
       "50%     3467.000000    6.447605   146.000000      7.150000\n",
       "75%    14585.500000    9.122593   333.500000      7.500000\n",
       "max    36049.000000   36.826309  2405.000000      8.300000"
      ]
     },
     "execution_count": 21,
     "metadata": {},
     "output_type": "execute_result"
    }
   ],
   "source": [
    "sim_director2.describe()"
   ]
  },
  {
   "cell_type": "code",
   "execution_count": 22,
   "metadata": {},
   "outputs": [
    {
     "data": {
      "text/html": [
       "<div>\n",
       "<style scoped>\n",
       "    .dataframe tbody tr th:only-of-type {\n",
       "        vertical-align: middle;\n",
       "    }\n",
       "\n",
       "    .dataframe tbody tr th {\n",
       "        vertical-align: top;\n",
       "    }\n",
       "\n",
       "    .dataframe thead th {\n",
       "        text-align: right;\n",
       "    }\n",
       "</style>\n",
       "<table border=\"1\" class=\"dataframe\">\n",
       "  <thead>\n",
       "    <tr style=\"text-align: right;\">\n",
       "      <th></th>\n",
       "      <th>id</th>\n",
       "      <th>popularity</th>\n",
       "      <th>vote_count</th>\n",
       "      <th>vote_average</th>\n",
       "    </tr>\n",
       "  </thead>\n",
       "  <tbody>\n",
       "    <tr>\n",
       "      <th>count</th>\n",
       "      <td>30.000000</td>\n",
       "      <td>30.000000</td>\n",
       "      <td>30.000000</td>\n",
       "      <td>30.000000</td>\n",
       "    </tr>\n",
       "    <tr>\n",
       "      <th>mean</th>\n",
       "      <td>20018.100000</td>\n",
       "      <td>8.902751</td>\n",
       "      <td>715.233333</td>\n",
       "      <td>6.676667</td>\n",
       "    </tr>\n",
       "    <tr>\n",
       "      <th>std</th>\n",
       "      <td>36757.517119</td>\n",
       "      <td>3.461430</td>\n",
       "      <td>1031.435213</td>\n",
       "      <td>0.738910</td>\n",
       "    </tr>\n",
       "    <tr>\n",
       "      <th>min</th>\n",
       "      <td>33.000000</td>\n",
       "      <td>3.793634</td>\n",
       "      <td>39.000000</td>\n",
       "      <td>5.200000</td>\n",
       "    </tr>\n",
       "    <tr>\n",
       "      <th>25%</th>\n",
       "      <td>4150.000000</td>\n",
       "      <td>6.060639</td>\n",
       "      <td>149.750000</td>\n",
       "      <td>6.300000</td>\n",
       "    </tr>\n",
       "    <tr>\n",
       "      <th>50%</th>\n",
       "      <td>10184.500000</td>\n",
       "      <td>8.542936</td>\n",
       "      <td>293.500000</td>\n",
       "      <td>6.600000</td>\n",
       "    </tr>\n",
       "    <tr>\n",
       "      <th>75%</th>\n",
       "      <td>17115.000000</td>\n",
       "      <td>10.684329</td>\n",
       "      <td>712.750000</td>\n",
       "      <td>7.300000</td>\n",
       "    </tr>\n",
       "    <tr>\n",
       "      <th>max</th>\n",
       "      <td>190859.000000</td>\n",
       "      <td>19.228561</td>\n",
       "      <td>4600.000000</td>\n",
       "      <td>7.800000</td>\n",
       "    </tr>\n",
       "  </tbody>\n",
       "</table>\n",
       "</div>"
      ],
      "text/plain": [
       "                  id  popularity   vote_count  vote_average\n",
       "count      30.000000   30.000000    30.000000     30.000000\n",
       "mean    20018.100000    8.902751   715.233333      6.676667\n",
       "std     36757.517119    3.461430  1031.435213      0.738910\n",
       "min        33.000000    3.793634    39.000000      5.200000\n",
       "25%      4150.000000    6.060639   149.750000      6.300000\n",
       "50%     10184.500000    8.542936   293.500000      6.600000\n",
       "75%     17115.000000   10.684329   712.750000      7.300000\n",
       "max    190859.000000   19.228561  4600.000000      7.800000"
      ]
     },
     "execution_count": 22,
     "metadata": {},
     "output_type": "execute_result"
    }
   ],
   "source": [
    "sim_director3.describe()"
   ]
  },
  {
   "cell_type": "markdown",
   "metadata": {},
   "source": [
    "Is there any correlation between directors and movie genres? Most movies of a director tend to concentrate on several genres."
   ]
  },
  {
   "cell_type": "code",
   "execution_count": 23,
   "metadata": {},
   "outputs": [
    {
     "data": {
      "text/html": [
       "<div>\n",
       "<style scoped>\n",
       "    .dataframe tbody tr th:only-of-type {\n",
       "        vertical-align: middle;\n",
       "    }\n",
       "\n",
       "    .dataframe tbody tr th {\n",
       "        vertical-align: top;\n",
       "    }\n",
       "\n",
       "    .dataframe thead th {\n",
       "        text-align: right;\n",
       "    }\n",
       "</style>\n",
       "<table border=\"1\" class=\"dataframe\">\n",
       "  <thead>\n",
       "    <tr style=\"text-align: right;\">\n",
       "      <th></th>\n",
       "      <th>genre</th>\n",
       "      <th>movies</th>\n",
       "    </tr>\n",
       "  </thead>\n",
       "  <tbody>\n",
       "    <tr>\n",
       "      <th>0</th>\n",
       "      <td>comedy</td>\n",
       "      <td>38</td>\n",
       "    </tr>\n",
       "    <tr>\n",
       "      <th>1</th>\n",
       "      <td>drama</td>\n",
       "      <td>21</td>\n",
       "    </tr>\n",
       "    <tr>\n",
       "      <th>2</th>\n",
       "      <td>romance</td>\n",
       "      <td>20</td>\n",
       "    </tr>\n",
       "    <tr>\n",
       "      <th>3</th>\n",
       "      <td>mystery</td>\n",
       "      <td>4</td>\n",
       "    </tr>\n",
       "    <tr>\n",
       "      <th>4</th>\n",
       "      <td>crime</td>\n",
       "      <td>4</td>\n",
       "    </tr>\n",
       "    <tr>\n",
       "      <th>5</th>\n",
       "      <td>thriller</td>\n",
       "      <td>4</td>\n",
       "    </tr>\n",
       "    <tr>\n",
       "      <th>6</th>\n",
       "      <td>action</td>\n",
       "      <td>3</td>\n",
       "    </tr>\n",
       "    <tr>\n",
       "      <th>7</th>\n",
       "      <td>fantasy</td>\n",
       "      <td>2</td>\n",
       "    </tr>\n",
       "    <tr>\n",
       "      <th>8</th>\n",
       "      <td>history</td>\n",
       "      <td>1</td>\n",
       "    </tr>\n",
       "    <tr>\n",
       "      <th>9</th>\n",
       "      <td>music</td>\n",
       "      <td>1</td>\n",
       "    </tr>\n",
       "    <tr>\n",
       "      <th>10</th>\n",
       "      <td>science fiction</td>\n",
       "      <td>1</td>\n",
       "    </tr>\n",
       "  </tbody>\n",
       "</table>\n",
       "</div>"
      ],
      "text/plain": [
       "              genre  movies\n",
       "0            comedy      38\n",
       "1             drama      21\n",
       "2           romance      20\n",
       "3           mystery       4\n",
       "4             crime       4\n",
       "5          thriller       4\n",
       "6            action       3\n",
       "7           fantasy       2\n",
       "8           history       1\n",
       "9             music       1\n",
       "10  science fiction       1"
      ]
     },
     "execution_count": 23,
     "metadata": {},
     "output_type": "execute_result"
    }
   ],
   "source": [
    "s = sim_director1.apply(lambda x: pd.Series(x['genres']),axis=1).stack().reset_index(level=1, drop=True)\n",
    "s.name = 'genre'\n",
    "genres_df1 = sim_director1.drop('genres', axis=1).join(s)\n",
    "genres_df1['genre'].value_counts().shape[0]\n",
    "genres_counts = pd.DataFrame(genres_df1['genre'].value_counts()).reset_index()\n",
    "genres_counts.columns = ['genre', 'movies']\n",
    "genres_counts"
   ]
  },
  {
   "cell_type": "code",
   "execution_count": 24,
   "metadata": {},
   "outputs": [
    {
     "data": {
      "text/html": [
       "<div>\n",
       "<style scoped>\n",
       "    .dataframe tbody tr th:only-of-type {\n",
       "        vertical-align: middle;\n",
       "    }\n",
       "\n",
       "    .dataframe tbody tr th {\n",
       "        vertical-align: top;\n",
       "    }\n",
       "\n",
       "    .dataframe thead th {\n",
       "        text-align: right;\n",
       "    }\n",
       "</style>\n",
       "<table border=\"1\" class=\"dataframe\">\n",
       "  <thead>\n",
       "    <tr style=\"text-align: right;\">\n",
       "      <th></th>\n",
       "      <th>genre</th>\n",
       "      <th>movies</th>\n",
       "    </tr>\n",
       "  </thead>\n",
       "  <tbody>\n",
       "    <tr>\n",
       "      <th>0</th>\n",
       "      <td>thriller</td>\n",
       "      <td>31</td>\n",
       "    </tr>\n",
       "    <tr>\n",
       "      <th>1</th>\n",
       "      <td>mystery</td>\n",
       "      <td>21</td>\n",
       "    </tr>\n",
       "    <tr>\n",
       "      <th>2</th>\n",
       "      <td>drama</td>\n",
       "      <td>20</td>\n",
       "    </tr>\n",
       "    <tr>\n",
       "      <th>3</th>\n",
       "      <td>crime</td>\n",
       "      <td>15</td>\n",
       "    </tr>\n",
       "    <tr>\n",
       "      <th>4</th>\n",
       "      <td>romance</td>\n",
       "      <td>4</td>\n",
       "    </tr>\n",
       "    <tr>\n",
       "      <th>5</th>\n",
       "      <td>comedy</td>\n",
       "      <td>4</td>\n",
       "    </tr>\n",
       "    <tr>\n",
       "      <th>6</th>\n",
       "      <td>war</td>\n",
       "      <td>3</td>\n",
       "    </tr>\n",
       "    <tr>\n",
       "      <th>7</th>\n",
       "      <td>adventure</td>\n",
       "      <td>2</td>\n",
       "    </tr>\n",
       "    <tr>\n",
       "      <th>8</th>\n",
       "      <td>horror</td>\n",
       "      <td>2</td>\n",
       "    </tr>\n",
       "    <tr>\n",
       "      <th>9</th>\n",
       "      <td>action</td>\n",
       "      <td>1</td>\n",
       "    </tr>\n",
       "  </tbody>\n",
       "</table>\n",
       "</div>"
      ],
      "text/plain": [
       "       genre  movies\n",
       "0   thriller      31\n",
       "1    mystery      21\n",
       "2      drama      20\n",
       "3      crime      15\n",
       "4    romance       4\n",
       "5     comedy       4\n",
       "6        war       3\n",
       "7  adventure       2\n",
       "8     horror       2\n",
       "9     action       1"
      ]
     },
     "execution_count": 24,
     "metadata": {},
     "output_type": "execute_result"
    }
   ],
   "source": [
    "s = sim_director2.apply(lambda x: pd.Series(x['genres']),axis=1).stack().reset_index(level=1, drop=True)\n",
    "s.name = 'genre'\n",
    "genres_df2 = sim_director2.drop('genres', axis=1).join(s)\n",
    "genres_df2['genre'].value_counts().shape[0]\n",
    "genres_counts = pd.DataFrame(genres_df2['genre'].value_counts()).reset_index()\n",
    "genres_counts.columns = ['genre', 'movies']\n",
    "genres_counts"
   ]
  },
  {
   "cell_type": "code",
   "execution_count": 25,
   "metadata": {},
   "outputs": [
    {
     "data": {
      "text/html": [
       "<div>\n",
       "<style scoped>\n",
       "    .dataframe tbody tr th:only-of-type {\n",
       "        vertical-align: middle;\n",
       "    }\n",
       "\n",
       "    .dataframe tbody tr th {\n",
       "        vertical-align: top;\n",
       "    }\n",
       "\n",
       "    .dataframe thead th {\n",
       "        text-align: right;\n",
       "    }\n",
       "</style>\n",
       "<table border=\"1\" class=\"dataframe\">\n",
       "  <thead>\n",
       "    <tr style=\"text-align: right;\">\n",
       "      <th></th>\n",
       "      <th>genre</th>\n",
       "      <th>movies</th>\n",
       "    </tr>\n",
       "  </thead>\n",
       "  <tbody>\n",
       "    <tr>\n",
       "      <th>0</th>\n",
       "      <td>drama</td>\n",
       "      <td>23</td>\n",
       "    </tr>\n",
       "    <tr>\n",
       "      <th>1</th>\n",
       "      <td>crime</td>\n",
       "      <td>12</td>\n",
       "    </tr>\n",
       "    <tr>\n",
       "      <th>2</th>\n",
       "      <td>thriller</td>\n",
       "      <td>11</td>\n",
       "    </tr>\n",
       "    <tr>\n",
       "      <th>3</th>\n",
       "      <td>action</td>\n",
       "      <td>9</td>\n",
       "    </tr>\n",
       "    <tr>\n",
       "      <th>4</th>\n",
       "      <td>western</td>\n",
       "      <td>6</td>\n",
       "    </tr>\n",
       "    <tr>\n",
       "      <th>5</th>\n",
       "      <td>war</td>\n",
       "      <td>4</td>\n",
       "    </tr>\n",
       "    <tr>\n",
       "      <th>6</th>\n",
       "      <td>mystery</td>\n",
       "      <td>4</td>\n",
       "    </tr>\n",
       "    <tr>\n",
       "      <th>7</th>\n",
       "      <td>romance</td>\n",
       "      <td>4</td>\n",
       "    </tr>\n",
       "    <tr>\n",
       "      <th>8</th>\n",
       "      <td>comedy</td>\n",
       "      <td>3</td>\n",
       "    </tr>\n",
       "    <tr>\n",
       "      <th>9</th>\n",
       "      <td>adventure</td>\n",
       "      <td>3</td>\n",
       "    </tr>\n",
       "    <tr>\n",
       "      <th>10</th>\n",
       "      <td>history</td>\n",
       "      <td>3</td>\n",
       "    </tr>\n",
       "    <tr>\n",
       "      <th>11</th>\n",
       "      <td>music</td>\n",
       "      <td>2</td>\n",
       "    </tr>\n",
       "    <tr>\n",
       "      <th>12</th>\n",
       "      <td>science fiction</td>\n",
       "      <td>1</td>\n",
       "    </tr>\n",
       "    <tr>\n",
       "      <th>13</th>\n",
       "      <td>fantasy</td>\n",
       "      <td>1</td>\n",
       "    </tr>\n",
       "  </tbody>\n",
       "</table>\n",
       "</div>"
      ],
      "text/plain": [
       "              genre  movies\n",
       "0             drama      23\n",
       "1             crime      12\n",
       "2          thriller      11\n",
       "3            action       9\n",
       "4           western       6\n",
       "5               war       4\n",
       "6           mystery       4\n",
       "7           romance       4\n",
       "8            comedy       3\n",
       "9         adventure       3\n",
       "10          history       3\n",
       "11            music       2\n",
       "12  science fiction       1\n",
       "13          fantasy       1"
      ]
     },
     "execution_count": 25,
     "metadata": {},
     "output_type": "execute_result"
    }
   ],
   "source": [
    "s = sim_director3.apply(lambda x: pd.Series(x['genres']),axis=1).stack().reset_index(level=1, drop=True)\n",
    "s.name = 'genre'\n",
    "genres_df3 = sim_director3.drop('genres', axis=1).join(s)\n",
    "genres_df3['genre'].value_counts().shape[0]\n",
    "genres_counts = pd.DataFrame(genres_df3['genre'].value_counts()).reset_index()\n",
    "genres_counts.columns = ['genre', 'movies']\n",
    "genres_counts"
   ]
  },
  {
   "cell_type": "markdown",
   "metadata": {},
   "source": [
    "### Actors"
   ]
  },
  {
   "cell_type": "markdown",
   "metadata": {},
   "source": [
    "How about actors? Do the most productive actors have relatively higher popularity? To answer this question, the top 5 productive actors are selected based on the number of movies they participated in: Robert De Niro, Samuel L. Jackson, Bruce Willis, Nicolas Cage and Michael Caine and 5 other less productive actors: Liam Neeson, Denzel Washington, Brad Pitt, Bill Murray and Christopher Walken. The results do not show evidence for a relationship between how productive an actor is and the popularity of the actor's movies."
   ]
  },
  {
   "cell_type": "code",
   "execution_count": 88,
   "metadata": {
    "scrolled": true
   },
   "outputs": [
    {
     "data": {
      "text/html": [
       "<div>\n",
       "<style scoped>\n",
       "    .dataframe tbody tr th:only-of-type {\n",
       "        vertical-align: middle;\n",
       "    }\n",
       "\n",
       "    .dataframe tbody tr th {\n",
       "        vertical-align: top;\n",
       "    }\n",
       "\n",
       "    .dataframe thead th {\n",
       "        text-align: right;\n",
       "    }\n",
       "</style>\n",
       "<table border=\"1\" class=\"dataframe\">\n",
       "  <thead>\n",
       "    <tr style=\"text-align: right;\">\n",
       "      <th></th>\n",
       "      <th>casts</th>\n",
       "      <th>movies</th>\n",
       "    </tr>\n",
       "  </thead>\n",
       "  <tbody>\n",
       "    <tr>\n",
       "      <th>0</th>\n",
       "      <td>robert_de_niro</td>\n",
       "      <td>66</td>\n",
       "    </tr>\n",
       "    <tr>\n",
       "      <th>1</th>\n",
       "      <td>samuel_l._jackson</td>\n",
       "      <td>59</td>\n",
       "    </tr>\n",
       "    <tr>\n",
       "      <th>2</th>\n",
       "      <td>bruce_willis</td>\n",
       "      <td>56</td>\n",
       "    </tr>\n",
       "    <tr>\n",
       "      <th>3</th>\n",
       "      <td>nicolas_cage</td>\n",
       "      <td>50</td>\n",
       "    </tr>\n",
       "    <tr>\n",
       "      <th>4</th>\n",
       "      <td>michael_caine</td>\n",
       "      <td>49</td>\n",
       "    </tr>\n",
       "  </tbody>\n",
       "</table>\n",
       "</div>"
      ],
      "text/plain": [
       "               casts  movies\n",
       "0     robert_de_niro      66\n",
       "1  samuel_l._jackson      59\n",
       "2       bruce_willis      56\n",
       "3       nicolas_cage      50\n",
       "4      michael_caine      49"
      ]
     },
     "execution_count": 88,
     "metadata": {},
     "output_type": "execute_result"
    }
   ],
   "source": [
    "s = temp.apply(lambda x: pd.Series(x['cast']),axis=1).stack().reset_index(level=1, drop=True)\n",
    "s.name = 'casts'\n",
    "cast_df = temp.drop('cast', axis=1).join(s)\n",
    "cast_df['casts'].value_counts().shape[0]\n",
    "cast_counts = pd.DataFrame(cast_df['casts'].value_counts()).reset_index()\n",
    "cast_counts.columns = ['casts', 'movies']\n",
    "cast_counts.head()"
   ]
  },
  {
   "cell_type": "code",
   "execution_count": 27,
   "metadata": {
    "scrolled": false
   },
   "outputs": [
    {
     "data": {
      "image/png": "[encoded data removed]",
      "text/plain": [
       "<Figure size 1296x576 with 1 Axes>"
      ]
     },
     "metadata": {
      "needs_background": "light"
     },
     "output_type": "display_data"
    }
   ],
   "source": [
    "top_casts=['robert_de_niro', 'samuel_l._jackson', 'bruce_willis', 'nicolas_cage', 'michael_caine', 'liam_neeson', 'denzel_washington', 'brad_pitt', 'bill_murray', 'christopher_walken']\n",
    "plt.figure(figsize=(18,8))\n",
    "sns.boxplot(x='casts', y='popularity', data=cast_df[(cast_df['casts'].isin(top_casts))], palette=\"bright\")\n",
    "plt.show()"
   ]
  },
  {
   "cell_type": "markdown",
   "metadata": {},
   "source": [
    "### keywords"
   ]
  },
  {
   "cell_type": "markdown",
   "metadata": {},
   "source": [
    "What are the most frequent keywords of movies? The top 3 found here are \"independent film\", \"based on novel\" and \"woman director.\" How about the relationship between frequency of keywords and popularity? Popularity of the top 3 common keywords and other three less common keywords are plotted. Results do not show a clear relationship between them."
   ]
  },
  {
   "cell_type": "code",
   "execution_count": 87,
   "metadata": {
    "scrolled": true
   },
   "outputs": [
    {
     "data": {
      "text/html": [
       "<div>\n",
       "<style scoped>\n",
       "    .dataframe tbody tr th:only-of-type {\n",
       "        vertical-align: middle;\n",
       "    }\n",
       "\n",
       "    .dataframe tbody tr th {\n",
       "        vertical-align: top;\n",
       "    }\n",
       "\n",
       "    .dataframe thead th {\n",
       "        text-align: right;\n",
       "    }\n",
       "</style>\n",
       "<table border=\"1\" class=\"dataframe\">\n",
       "  <thead>\n",
       "    <tr style=\"text-align: right;\">\n",
       "      <th></th>\n",
       "      <th>keyword</th>\n",
       "      <th>movies</th>\n",
       "    </tr>\n",
       "  </thead>\n",
       "  <tbody>\n",
       "    <tr>\n",
       "      <th>0</th>\n",
       "      <td>independent film</td>\n",
       "      <td>394</td>\n",
       "    </tr>\n",
       "    <tr>\n",
       "      <th>1</th>\n",
       "      <td>based on novel</td>\n",
       "      <td>301</td>\n",
       "    </tr>\n",
       "    <tr>\n",
       "      <th>2</th>\n",
       "      <td>woman director</td>\n",
       "      <td>272</td>\n",
       "    </tr>\n",
       "    <tr>\n",
       "      <th>3</th>\n",
       "      <td>sex</td>\n",
       "      <td>215</td>\n",
       "    </tr>\n",
       "    <tr>\n",
       "      <th>4</th>\n",
       "      <td>musical</td>\n",
       "      <td>196</td>\n",
       "    </tr>\n",
       "  </tbody>\n",
       "</table>\n",
       "</div>"
      ],
      "text/plain": [
       "            keyword  movies\n",
       "0  independent film     394\n",
       "1    based on novel     301\n",
       "2    woman director     272\n",
       "3               sex     215\n",
       "4           musical     196"
      ]
     },
     "execution_count": 87,
     "metadata": {},
     "output_type": "execute_result"
    }
   ],
   "source": [
    "s = temp.apply(lambda x: pd.Series(x['keywords']),axis=1).stack().reset_index(level=1, drop=True)\n",
    "s.name = 'keyword'\n",
    "key_df = temp.drop('keywords', axis=1).join(s)\n",
    "key_df['keyword'].value_counts().shape[0]\n",
    "key_counts = pd.DataFrame(key_df['keyword'].value_counts()).reset_index()\n",
    "key_counts.columns = ['keyword', 'movies']\n",
    "key_counts.head()"
   ]
  },
  {
   "cell_type": "code",
   "execution_count": 29,
   "metadata": {},
   "outputs": [
    {
     "data": {
      "image/png": "[encoded data removed]",
      "text/plain": [
       "<Figure size 1296x576 with 1 Axes>"
      ]
     },
     "metadata": {
      "needs_background": "light"
     },
     "output_type": "display_data"
    }
   ],
   "source": [
    "top_keys=['independent film', 'based on novel', 'woman director', 'sequel', 'police', 'high school']\n",
    "plt.figure(figsize=(18,8))\n",
    "sns.boxplot(x='keyword', y='popularity', data=key_df[(key_df['keyword'].isin(top_keys))], palette=\"bright\")\n",
    "plt.show()"
   ]
  },
  {
   "cell_type": "markdown",
   "metadata": {},
   "source": [
    "## 4. Recommendation Systems"
   ]
  },
  {
   "cell_type": "markdown",
   "metadata": {},
   "source": [
    "### 4.1 Popularity based system"
   ]
  },
  {
   "cell_type": "markdown",
   "metadata": {},
   "source": [
    "`Popularity`, `vote_count` and `vote_average` are three of the variables related to popularity. `popularity` and `vote_count` have similar zero-inflated poisson distributions, while the distirbution of `vote_average` is close to a normal distribution. Possibilities are that less popular movies are not definitely receiving low ratings. "
   ]
  },
  {
   "cell_type": "code",
   "execution_count": 30,
   "metadata": {},
   "outputs": [
    {
     "data": {
      "image/png": "[encoded data removed]",
      "text/plain": [
       "<Figure size 1080x432 with 3 Axes>"
      ]
     },
     "metadata": {
      "needs_background": "light"
     },
     "output_type": "display_data"
    }
   ],
   "source": [
    "plt.figure(figsize = (15,6))\n",
    "plt.subplot(1,3,1)\n",
    "plt.hist(movies['popularity'], bins = 50)\n",
    "plt.xlabel('popularity')\n",
    "plt.ylabel('Count');\n",
    "plt.subplot(1,3,2)\n",
    "plt.hist(movies['vote_count'], bins=50)\n",
    "plt.xlabel('Vote count')\n",
    "plt.ylabel('Count');\n",
    "plt.subplot(1,3,3)\n",
    "plt.hist(movies['vote_average'], bins=50)\n",
    "plt.xlabel('Vote average')\n",
    "plt.ylabel('Count');\n",
    "plt.show()"
   ]
  },
  {
   "cell_type": "markdown",
   "metadata": {},
   "source": [
    "The correlations among them are explored. `vote_count` and `popularity` has a moderate positive correlation with a coefficient of 0.54. "
   ]
  },
  {
   "cell_type": "code",
   "execution_count": 31,
   "metadata": {},
   "outputs": [
    {
     "name": "stderr",
     "output_type": "stream",
     "text": [
      "/anaconda3/lib/python3.7/site-packages/scipy/stats/stats.py:1713: FutureWarning: Using a non-tuple sequence for multidimensional indexing is deprecated; use `arr[tuple(seq)]` instead of `arr[seq]`. In the future this will be interpreted as an array index, `arr[np.array(seq)]`, which will result either in an error or a different result.\n",
      "  return np.add.reduce(sorted[indexer] * weights, axis=axis) / sumval\n",
      "/anaconda3/lib/python3.7/site-packages/seaborn/axisgrid.py:1847: UserWarning: JointGrid annotation is deprecated and will be removed in a future release.\n",
      "  warnings.warn(UserWarning(msg))\n"
     ]
    },
    {
     "data": {
      "image/png": "[encoded data removed]",
      "text/plain": [
       "<Figure size 432x432 with 3 Axes>"
      ]
     },
     "metadata": {
      "needs_background": "light"
     },
     "output_type": "display_data"
    }
   ],
   "source": [
    "j=sns.jointplot('vote_count', 'vote_average', data=movies)\n",
    "j.annotate(stats.pearsonr)\n",
    "plt.show()"
   ]
  },
  {
   "cell_type": "code",
   "execution_count": 32,
   "metadata": {},
   "outputs": [
    {
     "name": "stderr",
     "output_type": "stream",
     "text": [
      "/anaconda3/lib/python3.7/site-packages/seaborn/axisgrid.py:1847: UserWarning: JointGrid annotation is deprecated and will be removed in a future release.\n",
      "  warnings.warn(UserWarning(msg))\n"
     ]
    },
    {
     "data": {
      "image/png": "[encoded data removed]",
      "text/plain": [
       "<Figure size 432x432 with 3 Axes>"
      ]
     },
     "metadata": {
      "needs_background": "light"
     },
     "output_type": "display_data"
    }
   ],
   "source": [
    "j=sns.jointplot('vote_count', 'popularity', data=movies)\n",
    "j.annotate(stats.pearsonr)\n",
    "plt.show()"
   ]
  },
  {
   "cell_type": "code",
   "execution_count": 33,
   "metadata": {},
   "outputs": [
    {
     "name": "stderr",
     "output_type": "stream",
     "text": [
      "/anaconda3/lib/python3.7/site-packages/seaborn/axisgrid.py:1847: UserWarning: JointGrid annotation is deprecated and will be removed in a future release.\n",
      "  warnings.warn(UserWarning(msg))\n"
     ]
    },
    {
     "data": {
      "image/png": "[encoded data removed]",
      "text/plain": [
       "<Figure size 432x432 with 3 Axes>"
      ]
     },
     "metadata": {
      "needs_background": "light"
     },
     "output_type": "display_data"
    }
   ],
   "source": [
    "j=sns.jointplot('vote_average', 'popularity', data=movies)\n",
    "j.annotate(stats.pearsonr)\n",
    "plt.show()"
   ]
  },
  {
   "cell_type": "markdown",
   "metadata": {},
   "source": [
    "Popularity based recommendation system is an engine that simply recommends movies to every user based on popularity. That is, suggesting movies with high average ratings to users. Thus, this recommender is not personalized, depending primarily on existing overall ratings. However, this type of recommendation system can provide good options when a user has no preference or idea on which movie to watch. \n",
    "\n",
    "In order to build such a recommender, the following notation is introduced. \n",
    "\n",
    "Notation:\n",
    "\n",
    "WR: weighted rating of a movie\n",
    "\n",
    "R: rating of a movie, i.e. `average_vote`\n",
    "\n",
    "C: average rating of all movies\n",
    "\n",
    "v: number of ratings of a movie, i.e. `vote_count`\n",
    "\n",
    "m: minimal number of ratings for a movie to be considered\n",
    "\n",
    "Instead of ranking movies only with their own ratings, a weighted rating of a movie, $WR$ is formulated as follows: \n",
    "\n",
    "$WR=\\frac{v}{v+m}R+\\frac{m}{v+m}C$\n",
    "\n",
    "The weighted rating considers a movie's average rating, its number of ratings as well as the average ratings of all movies. A movie will only be a candidate if its rating count is above a threshold (i.e. $m$). Because a movie with a high average rating might not be an good option if it has few ratings, for example 10 ratings. If a movie has a large volume of ratings, the weight of its own average rating will be high. This implies that the average rating of a movie is more reliable with more ratings. Otherwise, a movie with small amount of ratings, its weighted rating will be more determined by the overall average movie rating. "
   ]
  },
  {
   "cell_type": "code",
   "execution_count": 34,
   "metadata": {},
   "outputs": [],
   "source": [
    "# popularity based recommender\n",
    "def popularity_based(df, quan=0.1, topk=10):\n",
    "    \"\"\"\n",
    "    df: movie pandas dataframe\n",
    "    quan: the minimal vote count to be considered, 0<=quan<1\n",
    "    topk: the number of recommended movies\n",
    "    \"\"\"\n",
    "    if 'vote_count' in df.columns and 'vote_average' in df.columns and 'title' in df.columns:\n",
    "        if quan < 1 and quan >= 0:\n",
    "            C = df[df['vote_average'].notnull()]['vote_average'].mean() # overall average rating\n",
    "            m = df[df['vote_count'].notnull()]['vote_count'].quantile(quan) # minimal vote count to consider\n",
    "            \n",
    "            # extract qualified subset\n",
    "            if 'release_date' in df.columns and 'genres' in df.columns: \n",
    "                df_sub = df[df['vote_count'] >= m][['title', 'release_date', 'genres','vote_count', 'vote_average']]\n",
    "                \n",
    "            else:\n",
    "                df_sub = df[df['vote_count'] >= m][['title', 'vote_count', 'vote_average']]\n",
    "            \n",
    "            # compute weighted rating\n",
    "            df_sub['wr'] = df_sub.apply(lambda x: x['vote_count']/(x['vote_count']+m)*x['vote_average']+\n",
    "                                       m/(x['vote_count']+m)*C, axis=1)\n",
    "            \n",
    "            # sort movies with weighted rating\n",
    "            if topk <= len(df_sub):\n",
    "                return df_sub.sort_values('wr', ascending=False).head(topk)\n",
    "            else:\n",
    "                raise Exception(\"'topk' can not be greater than \", len(df_sub), \".\")\n",
    "                \n",
    "        else:\n",
    "            raise Exception(\"'quan' is required to a non-negative number less than 1.\")\n",
    "    \n",
    "    else:\n",
    "        raise Exception(\"'df' does not contain required columns.\")"
   ]
  },
  {
   "cell_type": "markdown",
   "metadata": {},
   "source": [
    "The ten most popular movies among movies with more than 96 vote counts (i.e. quantile threshold is 0.5) based on weighted ratings have been recommended. The movie: The Shawshank Redemption is the top 1 movie with the highest weighted rating of 8.43."
   ]
  },
  {
   "cell_type": "code",
   "execution_count": 35,
   "metadata": {},
   "outputs": [
    {
     "data": {
      "text/html": [
       "<div>\n",
       "<style scoped>\n",
       "    .dataframe tbody tr th:only-of-type {\n",
       "        vertical-align: middle;\n",
       "    }\n",
       "\n",
       "    .dataframe tbody tr th {\n",
       "        vertical-align: top;\n",
       "    }\n",
       "\n",
       "    .dataframe thead th {\n",
       "        text-align: right;\n",
       "    }\n",
       "</style>\n",
       "<table border=\"1\" class=\"dataframe\">\n",
       "  <thead>\n",
       "    <tr style=\"text-align: right;\">\n",
       "      <th></th>\n",
       "      <th>title</th>\n",
       "      <th>release_date</th>\n",
       "      <th>genres</th>\n",
       "      <th>vote_count</th>\n",
       "      <th>vote_average</th>\n",
       "      <th>wr</th>\n",
       "    </tr>\n",
       "  </thead>\n",
       "  <tbody>\n",
       "    <tr>\n",
       "      <th>284</th>\n",
       "      <td>The Shawshank Redemption</td>\n",
       "      <td>1994-09-23</td>\n",
       "      <td>[drama, crime]</td>\n",
       "      <td>8358.0</td>\n",
       "      <td>8.5</td>\n",
       "      <td>8.475724</td>\n",
       "    </tr>\n",
       "    <tr>\n",
       "      <th>692</th>\n",
       "      <td>The Godfather</td>\n",
       "      <td>1972-03-14</td>\n",
       "      <td>[drama, crime]</td>\n",
       "      <td>6024.0</td>\n",
       "      <td>8.5</td>\n",
       "      <td>8.466466</td>\n",
       "    </tr>\n",
       "    <tr>\n",
       "      <th>6897</th>\n",
       "      <td>The Dark Knight</td>\n",
       "      <td>2008-07-16</td>\n",
       "      <td>[drama, action, crime, thriller]</td>\n",
       "      <td>12269.0</td>\n",
       "      <td>8.3</td>\n",
       "      <td>8.284955</td>\n",
       "    </tr>\n",
       "    <tr>\n",
       "      <th>2369</th>\n",
       "      <td>Fight Club</td>\n",
       "      <td>1999-10-15</td>\n",
       "      <td>[drama]</td>\n",
       "      <td>9678.0</td>\n",
       "      <td>8.3</td>\n",
       "      <td>8.280967</td>\n",
       "    </tr>\n",
       "    <tr>\n",
       "      <th>266</th>\n",
       "      <td>Pulp Fiction</td>\n",
       "      <td>1994-09-10</td>\n",
       "      <td>[thriller, crime]</td>\n",
       "      <td>8670.0</td>\n",
       "      <td>8.3</td>\n",
       "      <td>8.278778</td>\n",
       "    </tr>\n",
       "    <tr>\n",
       "      <th>472</th>\n",
       "      <td>Schindler's List</td>\n",
       "      <td>1993-11-29</td>\n",
       "      <td>[drama, history, war]</td>\n",
       "      <td>4436.0</td>\n",
       "      <td>8.3</td>\n",
       "      <td>8.258952</td>\n",
       "    </tr>\n",
       "    <tr>\n",
       "      <th>8585</th>\n",
       "      <td>Whiplash</td>\n",
       "      <td>2014-10-10</td>\n",
       "      <td>[drama]</td>\n",
       "      <td>4376.0</td>\n",
       "      <td>8.3</td>\n",
       "      <td>8.258401</td>\n",
       "    </tr>\n",
       "    <tr>\n",
       "      <th>4223</th>\n",
       "      <td>Spirited Away</td>\n",
       "      <td>2001-07-20</td>\n",
       "      <td>[fantasy, adventure, animation, family]</td>\n",
       "      <td>3968.0</td>\n",
       "      <td>8.3</td>\n",
       "      <td>8.254225</td>\n",
       "    </tr>\n",
       "    <tr>\n",
       "      <th>1835</th>\n",
       "      <td>Life Is Beautiful</td>\n",
       "      <td>1997-12-20</td>\n",
       "      <td>[comedy, drama]</td>\n",
       "      <td>3643.0</td>\n",
       "      <td>8.3</td>\n",
       "      <td>8.250246</td>\n",
       "    </tr>\n",
       "    <tr>\n",
       "      <th>973</th>\n",
       "      <td>The Godfather: Part II</td>\n",
       "      <td>1974-12-20</td>\n",
       "      <td>[drama, crime]</td>\n",
       "      <td>3418.0</td>\n",
       "      <td>8.3</td>\n",
       "      <td>8.247060</td>\n",
       "    </tr>\n",
       "  </tbody>\n",
       "</table>\n",
       "</div>"
      ],
      "text/plain": [
       "                         title release_date  \\\n",
       "284   The Shawshank Redemption   1994-09-23   \n",
       "692              The Godfather   1972-03-14   \n",
       "6897           The Dark Knight   2008-07-16   \n",
       "2369                Fight Club   1999-10-15   \n",
       "266               Pulp Fiction   1994-09-10   \n",
       "472           Schindler's List   1993-11-29   \n",
       "8585                  Whiplash   2014-10-10   \n",
       "4223             Spirited Away   2001-07-20   \n",
       "1835         Life Is Beautiful   1997-12-20   \n",
       "973     The Godfather: Part II   1974-12-20   \n",
       "\n",
       "                                       genres  vote_count  vote_average  \\\n",
       "284                            [drama, crime]      8358.0           8.5   \n",
       "692                            [drama, crime]      6024.0           8.5   \n",
       "6897         [drama, action, crime, thriller]     12269.0           8.3   \n",
       "2369                                  [drama]      9678.0           8.3   \n",
       "266                         [thriller, crime]      8670.0           8.3   \n",
       "472                     [drama, history, war]      4436.0           8.3   \n",
       "8585                                  [drama]      4376.0           8.3   \n",
       "4223  [fantasy, adventure, animation, family]      3968.0           8.3   \n",
       "1835                          [comedy, drama]      3643.0           8.3   \n",
       "973                            [drama, crime]      3418.0           8.3   \n",
       "\n",
       "            wr  \n",
       "284   8.475724  \n",
       "692   8.466466  \n",
       "6897  8.284955  \n",
       "2369  8.280967  \n",
       "266   8.278778  \n",
       "472   8.258952  \n",
       "8585  8.258401  \n",
       "4223  8.254225  \n",
       "1835  8.250246  \n",
       "973   8.247060  "
      ]
     },
     "execution_count": 35,
     "metadata": {},
     "output_type": "execute_result"
    }
   ],
   "source": [
    "popularity_based(movies, quan=0.5, topk=10)"
   ]
  },
  {
   "cell_type": "markdown",
   "metadata": {},
   "source": [
    "### 4.2 Content-based system"
   ]
  },
  {
   "cell_type": "markdown",
   "metadata": {},
   "source": [
    "Popularity-based recommender system suffers a severe limitation, that is, the system recommends the same movies to everyone without taking user preference into account. A content-based system is proposed to personalize the movies recommended to users. Assume a user would like the movies similar to the movies that he/she likes, the content of a movie, such as genre, plot, director, cast, and keywords, is used to select the movie most similar and recommend to users."
   ]
  },
  {
   "cell_type": "code",
   "execution_count": 36,
   "metadata": {},
   "outputs": [],
   "source": [
    "def overview(df, weights):\n",
    "#     df: movie feature dataframe\n",
    "\n",
    "#     tf idf for text\n",
    "    tfidf = TfidfVectorizer(stop_words='english')\n",
    "    df['text'] = new['overview'] + \" \" + new['tagline']\n",
    "    tfidf_matrix = tfidf.fit_transform(df['text'].fillna('')).todense()\n",
    "\n",
    "    \n",
    "    return(tfidf_matrix)"
   ]
  },
  {
   "cell_type": "code",
   "execution_count": 37,
   "metadata": {},
   "outputs": [],
   "source": [
    "tfidf = TfidfVectorizer(stop_words='english')\n",
    "movies['text'] = movies['overview'] + \" \" + movies['tagline']\n",
    "tfidf_matrix = tfidf.fit_transform(movies['text'].fillna('')).todense()"
   ]
  },
  {
   "cell_type": "code",
   "execution_count": 38,
   "metadata": {},
   "outputs": [],
   "source": [
    "matrix = pd.DataFrame(tfidf_matrix, columns=tfidf.get_feature_names())"
   ]
  },
  {
   "cell_type": "code",
   "execution_count": 89,
   "metadata": {},
   "outputs": [
    {
     "data": {
      "text/html": [
       "<div>\n",
       "<style scoped>\n",
       "    .dataframe tbody tr th:only-of-type {\n",
       "        vertical-align: middle;\n",
       "    }\n",
       "\n",
       "    .dataframe tbody tr th {\n",
       "        vertical-align: top;\n",
       "    }\n",
       "\n",
       "    .dataframe thead th {\n",
       "        text-align: right;\n",
       "    }\n",
       "</style>\n",
       "<table border=\"1\" class=\"dataframe\">\n",
       "  <thead>\n",
       "    <tr style=\"text-align: right;\">\n",
       "      <th></th>\n",
       "      <th>0</th>\n",
       "    </tr>\n",
       "  </thead>\n",
       "  <tbody>\n",
       "    <tr>\n",
       "      <th>life</th>\n",
       "      <td>113.370511</td>\n",
       "    </tr>\n",
       "    <tr>\n",
       "      <th>man</th>\n",
       "      <td>101.996009</td>\n",
       "    </tr>\n",
       "    <tr>\n",
       "      <th>love</th>\n",
       "      <td>95.952017</td>\n",
       "    </tr>\n",
       "    <tr>\n",
       "      <th>new</th>\n",
       "      <td>94.486116</td>\n",
       "    </tr>\n",
       "    <tr>\n",
       "      <th>world</th>\n",
       "      <td>90.858007</td>\n",
       "    </tr>\n",
       "  </tbody>\n",
       "</table>\n",
       "</div>"
      ],
      "text/plain": [
       "                0\n",
       "life   113.370511\n",
       "man    101.996009\n",
       "love    95.952017\n",
       "new     94.486116\n",
       "world   90.858007"
      ]
     },
     "execution_count": 89,
     "metadata": {},
     "output_type": "execute_result"
    }
   ],
   "source": [
    "top_words = matrix.sum(axis=0).sort_values(ascending=False)\n",
    "top_words_df = pd.DataFrame(top_words)\n",
    "top_words_df.head()"
   ]
  },
  {
   "cell_type": "code",
   "execution_count": 40,
   "metadata": {},
   "outputs": [],
   "source": [
    "top_words_df['word'] = top_words_df.index"
   ]
  },
  {
   "cell_type": "code",
   "execution_count": 43,
   "metadata": {},
   "outputs": [],
   "source": [
    "top=top_words_df['word'].tolist()\n",
    "# top\n",
    "# Convert list to string\n",
    "topstr=\" \".join(top[0:1000])"
   ]
  },
  {
   "cell_type": "code",
   "execution_count": 44,
   "metadata": {},
   "outputs": [
    {
     "data": {
      "text/plain": [
       "'life man love new world young story family time woman'"
      ]
     },
     "execution_count": 44,
     "metadata": {},
     "output_type": "execute_result"
    }
   ],
   "source": [
    "\" \".join(top[0:10])"
   ]
  },
  {
   "cell_type": "code",
   "execution_count": 45,
   "metadata": {
    "scrolled": true
   },
   "outputs": [
    {
     "data": {
      "image/png": "[encoded data removed]",
      "text/plain": [
       "<Figure size 432x288 with 1 Axes>"
      ]
     },
     "metadata": {
      "needs_background": "light"
     },
     "output_type": "display_data"
    }
   ],
   "source": [
    "wordcloud = WordCloud(max_font_size=50, background_color=\"white\").generate(topstr)\n",
    "plt.figure()\n",
    "plt.imshow(wordcloud, interpolation=\"bilinear\")\n",
    "plt.axis(\"off\")\n",
    "plt.show()"
   ]
  },
  {
   "cell_type": "markdown",
   "metadata": {},
   "source": [
    "People usually prefer different types of movies, directors, actors and/or actresses. From previous analysis, we saw some directors constantly produced a certain type of movies. We also saw some production companies such as Disney and Pixar usually guarantee good animations. \n",
    "\n",
    "Two measures of movie similarity are proposed for content-based recommender systems. One is based on movie descriptions, including movie overview and tagline. Term frequency–inverse document frequency(TFIDF) is used to construct a movie-term matrix with each row representing a movie in a term space. In this matrix, cell$(i,j)$ is the frequency of term $j$ appears in movie $i$. Cosine similarity is used to calculate the similarity between each pair of movies. Cosine similarity between two vectors $\\mathbf{x}$ and $\\mathbf{y}$ is defined as $$\\text { similarity }=\\cos (\\theta)=\\frac{\\mathbf{x} \\cdot \\mathbf{y}}{\\|\\mathbf{x}\\|\\|\\mathbf{y}\\|}=\\frac{\\sum_{i=1}^{n} x_{i} y_{i}}{\\sqrt{\\sum_{i=1}^{n} x_{i}^{2}} \\sqrt{\\sum_{i=1}^{n} y_{i}^{2}}}$$\n",
    "\n",
    "Another way is to use movie meta information such as director, cast, genre, production company. A movie-term matrix is constructed with each term being an instance of a director, cast, genre, production company. The cosine similarity matrix is also computed.\n",
    "\n",
    "Finally, weights are assigned to these two similarity matrices to get an overall similarity matrix. If a user view history is known, an averaged similarity score for each movie can be computed. The top $k$ most similar movies are therefore recommended."
   ]
  },
  {
   "cell_type": "code",
   "execution_count": 46,
   "metadata": {},
   "outputs": [],
   "source": [
    "# # content-based movie similarity\n",
    "def sim(df, weights):\n",
    "    \"\"\"\n",
    "    df: movie feature dataframe\n",
    "    weights: weight of two metrics\n",
    "    \"\"\"\n",
    "    \n",
    "#     tf idf for text\n",
    "    tfidf = TfidfVectorizer(stop_words='english')\n",
    "    df['text'] = df['overview'] + \" \" + df['tagline']\n",
    "    tfidf_matrix = tfidf.fit_transform(df['text'].fillna(''))\n",
    "#     Compute the cosine similarity matrix\n",
    "    cosine_sim = cosine_similarity(tfidf_matrix, tfidf_matrix)\n",
    "    np.fill_diagonal(cosine_sim, 1)\n",
    "    \n",
    "#     meta information similarity\n",
    "    count = CountVectorizer(stop_words='english')\n",
    "    count_matrix = count.fit_transform(df['features'])\n",
    "    cosine_sim2 = cosine_similarity(count_matrix, count_matrix)\n",
    "    \n",
    "#     combined similarity  \n",
    "    cosine = weights[0]*cosine_sim + weights[1]*cosine_sim2\n",
    "    \n",
    "    return(cosine)"
   ]
  },
  {
   "cell_type": "code",
   "execution_count": 47,
   "metadata": {},
   "outputs": [
    {
     "data": {
      "text/plain": [
       "(9082, 16)"
      ]
     },
     "execution_count": 47,
     "metadata": {},
     "output_type": "execute_result"
    }
   ],
   "source": [
    "movies.shape"
   ]
  },
  {
   "cell_type": "code",
   "execution_count": 48,
   "metadata": {},
   "outputs": [],
   "source": [
    "# similarity matrix for the dataset\n",
    "w = [0.4, 0.6]\n",
    "simMtx = sim(movies, w)"
   ]
  },
  {
   "cell_type": "code",
   "execution_count": 49,
   "metadata": {},
   "outputs": [],
   "source": [
    "# content-based recommender \n",
    "def contentBased(moviels, sim, topk):\n",
    "    \"\"\"\n",
    "    moviels: the movie list that a user watches\n",
    "    sim: movie similarity matrix\n",
    "    num: number of movies to recommend\n",
    "    \"\"\"\n",
    "\n",
    "#     find movie index\n",
    "    ID = movies[movies['title'].isin(moviels)].index.tolist()\n",
    "    rows = sim[ID]\n",
    "#     compute average similarity score\n",
    "    avg_sim = pd.DataFrame({'similarity':rows.mean(axis=0)})\n",
    "#     from index find movie title and release date\n",
    "    avg_sim[['title', 'release_date']]= movies[['title', 'release_date']]\n",
    "    avg_sim = avg_sim[~avg_sim[\"title\"].isin(moviels)]\n",
    "    avg_sim = avg_sim[[\"title\", 'release_date', \"similarity\"]]\n",
    "#     return the top k movies\n",
    "    recommend = avg_sim.nlargest(topk, 'similarity')\n",
    "    return(recommend)"
   ]
  },
  {
   "cell_type": "code",
   "execution_count": 50,
   "metadata": {},
   "outputs": [
    {
     "data": {
      "text/html": [
       "<div>\n",
       "<style scoped>\n",
       "    .dataframe tbody tr th:only-of-type {\n",
       "        vertical-align: middle;\n",
       "    }\n",
       "\n",
       "    .dataframe tbody tr th {\n",
       "        vertical-align: top;\n",
       "    }\n",
       "\n",
       "    .dataframe thead th {\n",
       "        text-align: right;\n",
       "    }\n",
       "</style>\n",
       "<table border=\"1\" class=\"dataframe\">\n",
       "  <thead>\n",
       "    <tr style=\"text-align: right;\">\n",
       "      <th></th>\n",
       "      <th>title</th>\n",
       "      <th>release_date</th>\n",
       "      <th>similarity</th>\n",
       "    </tr>\n",
       "  </thead>\n",
       "  <tbody>\n",
       "    <tr>\n",
       "      <th>7502</th>\n",
       "      <td>Iron Man 2</td>\n",
       "      <td>2010-04-28</td>\n",
       "      <td>0.472780</td>\n",
       "    </tr>\n",
       "    <tr>\n",
       "      <th>8280</th>\n",
       "      <td>Iron Man 3</td>\n",
       "      <td>2013-04-18</td>\n",
       "      <td>0.428136</td>\n",
       "    </tr>\n",
       "    <tr>\n",
       "      <th>8749</th>\n",
       "      <td>Avengers: Age of Ultron</td>\n",
       "      <td>2015-04-22</td>\n",
       "      <td>0.370273</td>\n",
       "    </tr>\n",
       "    <tr>\n",
       "      <th>7864</th>\n",
       "      <td>The Avengers</td>\n",
       "      <td>2012-04-25</td>\n",
       "      <td>0.343247</td>\n",
       "    </tr>\n",
       "    <tr>\n",
       "      <th>8750</th>\n",
       "      <td>Ant-Man</td>\n",
       "      <td>2015-07-14</td>\n",
       "      <td>0.324209</td>\n",
       "    </tr>\n",
       "    <tr>\n",
       "      <th>8514</th>\n",
       "      <td>Captain America: The Winter Soldier</td>\n",
       "      <td>2014-03-20</td>\n",
       "      <td>0.292904</td>\n",
       "    </tr>\n",
       "    <tr>\n",
       "      <th>7818</th>\n",
       "      <td>Captain America: The First Avenger</td>\n",
       "      <td>2011-07-22</td>\n",
       "      <td>0.274320</td>\n",
       "    </tr>\n",
       "    <tr>\n",
       "      <th>6960</th>\n",
       "      <td>The Incredible Hulk</td>\n",
       "      <td>2008-06-12</td>\n",
       "      <td>0.268328</td>\n",
       "    </tr>\n",
       "    <tr>\n",
       "      <th>8753</th>\n",
       "      <td>Captain America: Civil War</td>\n",
       "      <td>2016-04-27</td>\n",
       "      <td>0.263117</td>\n",
       "    </tr>\n",
       "    <tr>\n",
       "      <th>1111</th>\n",
       "      <td>Star Trek III: The Search for Spock</td>\n",
       "      <td>1984-05-31</td>\n",
       "      <td>0.241672</td>\n",
       "    </tr>\n",
       "  </tbody>\n",
       "</table>\n",
       "</div>"
      ],
      "text/plain": [
       "                                    title release_date  similarity\n",
       "7502                           Iron Man 2   2010-04-28    0.472780\n",
       "8280                           Iron Man 3   2013-04-18    0.428136\n",
       "8749              Avengers: Age of Ultron   2015-04-22    0.370273\n",
       "7864                         The Avengers   2012-04-25    0.343247\n",
       "8750                              Ant-Man   2015-07-14    0.324209\n",
       "8514  Captain America: The Winter Soldier   2014-03-20    0.292904\n",
       "7818   Captain America: The First Avenger   2011-07-22    0.274320\n",
       "6960                  The Incredible Hulk   2008-06-12    0.268328\n",
       "8753           Captain America: Civil War   2016-04-27    0.263117\n",
       "1111  Star Trek III: The Search for Spock   1984-05-31    0.241672"
      ]
     },
     "execution_count": 50,
     "metadata": {},
     "output_type": "execute_result"
    }
   ],
   "source": [
    "contentBased([\"Iron Man\"], simMtx, 10)"
   ]
  },
  {
   "cell_type": "code",
   "execution_count": 51,
   "metadata": {},
   "outputs": [
    {
     "data": {
      "text/html": [
       "<div>\n",
       "<style scoped>\n",
       "    .dataframe tbody tr th:only-of-type {\n",
       "        vertical-align: middle;\n",
       "    }\n",
       "\n",
       "    .dataframe tbody tr th {\n",
       "        vertical-align: top;\n",
       "    }\n",
       "\n",
       "    .dataframe thead th {\n",
       "        text-align: right;\n",
       "    }\n",
       "</style>\n",
       "<table border=\"1\" class=\"dataframe\">\n",
       "  <thead>\n",
       "    <tr style=\"text-align: right;\">\n",
       "      <th></th>\n",
       "      <th>title</th>\n",
       "      <th>release_date</th>\n",
       "      <th>similarity</th>\n",
       "    </tr>\n",
       "  </thead>\n",
       "  <tbody>\n",
       "    <tr>\n",
       "      <th>8749</th>\n",
       "      <td>Avengers: Age of Ultron</td>\n",
       "      <td>2015-04-22</td>\n",
       "      <td>0.310859</td>\n",
       "    </tr>\n",
       "    <tr>\n",
       "      <th>7502</th>\n",
       "      <td>Iron Man 2</td>\n",
       "      <td>2010-04-28</td>\n",
       "      <td>0.304215</td>\n",
       "    </tr>\n",
       "    <tr>\n",
       "      <th>8514</th>\n",
       "      <td>Captain America: The Winter Soldier</td>\n",
       "      <td>2014-03-20</td>\n",
       "      <td>0.288419</td>\n",
       "    </tr>\n",
       "    <tr>\n",
       "      <th>8280</th>\n",
       "      <td>Iron Man 3</td>\n",
       "      <td>2013-04-18</td>\n",
       "      <td>0.265760</td>\n",
       "    </tr>\n",
       "    <tr>\n",
       "      <th>8750</th>\n",
       "      <td>Ant-Man</td>\n",
       "      <td>2015-07-14</td>\n",
       "      <td>0.257600</td>\n",
       "    </tr>\n",
       "    <tr>\n",
       "      <th>6960</th>\n",
       "      <td>The Incredible Hulk</td>\n",
       "      <td>2008-06-12</td>\n",
       "      <td>0.246516</td>\n",
       "    </tr>\n",
       "    <tr>\n",
       "      <th>8753</th>\n",
       "      <td>Captain America: Civil War</td>\n",
       "      <td>2016-04-27</td>\n",
       "      <td>0.239698</td>\n",
       "    </tr>\n",
       "    <tr>\n",
       "      <th>3028</th>\n",
       "      <td>X-Men</td>\n",
       "      <td>2000-07-13</td>\n",
       "      <td>0.208098</td>\n",
       "    </tr>\n",
       "    <tr>\n",
       "      <th>8409</th>\n",
       "      <td>Thor: The Dark World</td>\n",
       "      <td>2013-10-29</td>\n",
       "      <td>0.203199</td>\n",
       "    </tr>\n",
       "    <tr>\n",
       "      <th>4579</th>\n",
       "      <td>X2</td>\n",
       "      <td>2003-04-24</td>\n",
       "      <td>0.202876</td>\n",
       "    </tr>\n",
       "  </tbody>\n",
       "</table>\n",
       "</div>"
      ],
      "text/plain": [
       "                                    title release_date  similarity\n",
       "8749              Avengers: Age of Ultron   2015-04-22    0.310859\n",
       "7502                           Iron Man 2   2010-04-28    0.304215\n",
       "8514  Captain America: The Winter Soldier   2014-03-20    0.288419\n",
       "8280                           Iron Man 3   2013-04-18    0.265760\n",
       "8750                              Ant-Man   2015-07-14    0.257600\n",
       "6960                  The Incredible Hulk   2008-06-12    0.246516\n",
       "8753           Captain America: Civil War   2016-04-27    0.239698\n",
       "3028                                X-Men   2000-07-13    0.208098\n",
       "8409                 Thor: The Dark World   2013-10-29    0.203199\n",
       "4579                                   X2   2003-04-24    0.202876"
      ]
     },
     "execution_count": 51,
     "metadata": {},
     "output_type": "execute_result"
    }
   ],
   "source": [
    "# supterhero\n",
    "contentBased([\"The Avengers\", \"Iron Man\", \"Captain America: The First Avenger\"], simMtx, 10)"
   ]
  },
  {
   "cell_type": "code",
   "execution_count": 52,
   "metadata": {},
   "outputs": [
    {
     "data": {
      "text/html": [
       "<div>\n",
       "<style scoped>\n",
       "    .dataframe tbody tr th:only-of-type {\n",
       "        vertical-align: middle;\n",
       "    }\n",
       "\n",
       "    .dataframe tbody tr th {\n",
       "        vertical-align: top;\n",
       "    }\n",
       "\n",
       "    .dataframe thead th {\n",
       "        text-align: right;\n",
       "    }\n",
       "</style>\n",
       "<table border=\"1\" class=\"dataframe\">\n",
       "  <thead>\n",
       "    <tr style=\"text-align: right;\">\n",
       "      <th></th>\n",
       "      <th>title</th>\n",
       "      <th>release_date</th>\n",
       "      <th>similarity</th>\n",
       "    </tr>\n",
       "  </thead>\n",
       "  <tbody>\n",
       "    <tr>\n",
       "      <th>521</th>\n",
       "      <td>Aladdin</td>\n",
       "      <td>1992-11-25</td>\n",
       "      <td>0.219991</td>\n",
       "    </tr>\n",
       "    <tr>\n",
       "      <th>216</th>\n",
       "      <td>Gumby: The Movie</td>\n",
       "      <td>1995-12-01</td>\n",
       "      <td>0.212915</td>\n",
       "    </tr>\n",
       "    <tr>\n",
       "      <th>1242</th>\n",
       "      <td>Hercules</td>\n",
       "      <td>1997-06-26</td>\n",
       "      <td>0.212854</td>\n",
       "    </tr>\n",
       "    <tr>\n",
       "      <th>3946</th>\n",
       "      <td>Return to Never Land</td>\n",
       "      <td>2002-02-14</td>\n",
       "      <td>0.205518</td>\n",
       "    </tr>\n",
       "    <tr>\n",
       "      <th>2730</th>\n",
       "      <td>Creature Comforts</td>\n",
       "      <td>1989-07-15</td>\n",
       "      <td>0.203238</td>\n",
       "    </tr>\n",
       "  </tbody>\n",
       "</table>\n",
       "</div>"
      ],
      "text/plain": [
       "                     title release_date  similarity\n",
       "521                Aladdin   1992-11-25    0.219991\n",
       "216       Gumby: The Movie   1995-12-01    0.212915\n",
       "1242              Hercules   1997-06-26    0.212854\n",
       "3946  Return to Never Land   2002-02-14    0.205518\n",
       "2730     Creature Comforts   1989-07-15    0.203238"
      ]
     },
     "execution_count": 52,
     "metadata": {},
     "output_type": "execute_result"
    }
   ],
   "source": [
    "# disney \n",
    "contentBased([\"Inside Out\", \"Frozen\", \"Tangled\", \"Peter Pan\"], simMtx, 5)"
   ]
  },
  {
   "cell_type": "code",
   "execution_count": 53,
   "metadata": {},
   "outputs": [
    {
     "data": {
      "text/html": [
       "<div>\n",
       "<style scoped>\n",
       "    .dataframe tbody tr th:only-of-type {\n",
       "        vertical-align: middle;\n",
       "    }\n",
       "\n",
       "    .dataframe tbody tr th {\n",
       "        vertical-align: top;\n",
       "    }\n",
       "\n",
       "    .dataframe thead th {\n",
       "        text-align: right;\n",
       "    }\n",
       "</style>\n",
       "<table border=\"1\" class=\"dataframe\">\n",
       "  <thead>\n",
       "    <tr style=\"text-align: right;\">\n",
       "      <th></th>\n",
       "      <th>title</th>\n",
       "      <th>release_date</th>\n",
       "      <th>similarity</th>\n",
       "    </tr>\n",
       "  </thead>\n",
       "  <tbody>\n",
       "    <tr>\n",
       "      <th>7926</th>\n",
       "      <td>The Dark Knight Rises</td>\n",
       "      <td>2012-07-16</td>\n",
       "      <td>0.320941</td>\n",
       "    </tr>\n",
       "    <tr>\n",
       "      <th>6141</th>\n",
       "      <td>Batman Begins</td>\n",
       "      <td>2005-06-10</td>\n",
       "      <td>0.271341</td>\n",
       "    </tr>\n",
       "    <tr>\n",
       "      <th>8307</th>\n",
       "      <td>Man of Steel</td>\n",
       "      <td>2013-06-12</td>\n",
       "      <td>0.217003</td>\n",
       "    </tr>\n",
       "    <tr>\n",
       "      <th>6444</th>\n",
       "      <td>Superman Returns</td>\n",
       "      <td>2006-06-28</td>\n",
       "      <td>0.191557</td>\n",
       "    </tr>\n",
       "    <tr>\n",
       "      <th>6985</th>\n",
       "      <td>Watchmen</td>\n",
       "      <td>2009-03-05</td>\n",
       "      <td>0.183402</td>\n",
       "    </tr>\n",
       "  </tbody>\n",
       "</table>\n",
       "</div>"
      ],
      "text/plain": [
       "                      title release_date  similarity\n",
       "7926  The Dark Knight Rises   2012-07-16    0.320941\n",
       "6141          Batman Begins   2005-06-10    0.271341\n",
       "8307           Man of Steel   2013-06-12    0.217003\n",
       "6444       Superman Returns   2006-06-28    0.191557\n",
       "6985               Watchmen   2009-03-05    0.183402"
      ]
     },
     "execution_count": 53,
     "metadata": {},
     "output_type": "execute_result"
    }
   ],
   "source": [
    "# Nolan\n",
    "contentBased([\"Inception\", \"Interstellar\", \"The Dark Knight\"], simMtx, 5)"
   ]
  },
  {
   "cell_type": "markdown",
   "metadata": {},
   "source": [
    "### 4.3 Collaborative filtering "
   ]
  },
  {
   "cell_type": "markdown",
   "metadata": {},
   "source": [
    "How are the rating distributed? The mode of rating is about 4. The shape is kind of left-skewed. "
   ]
  },
  {
   "cell_type": "code",
   "execution_count": 54,
   "metadata": {},
   "outputs": [
    {
     "data": {
      "image/png": "[encoded data removed]",
      "text/plain": [
       "<Figure size 432x288 with 1 Axes>"
      ]
     },
     "metadata": {
      "needs_background": "light"
     },
     "output_type": "display_data"
    }
   ],
   "source": [
    "rating_count = (\n",
    "    ratings['rating'].\n",
    "    value_counts(normalize = True, sort=False).\n",
    "    reset_index().\n",
    "    rename(columns = {'index' : 'rating', 'rating': 'frequency'})\n",
    ")\n",
    "\n",
    "ax = sns.barplot(x = 'rating', y = 'frequency',palette = 'Blues',data = rating_count)\n",
    "ax.set_title('Rating Distribution')\n",
    "plt.show()"
   ]
  },
  {
   "cell_type": "markdown",
   "metadata": {},
   "source": [
    "The histogram of users' ratings show that a user usually has very limited number of movie ratings."
   ]
  },
  {
   "cell_type": "code",
   "execution_count": 55,
   "metadata": {},
   "outputs": [
    {
     "data": {
      "image/png": "[encoded data removed]",
      "text/plain": [
       "<Figure size 432x288 with 1 Axes>"
      ]
     },
     "metadata": {
      "needs_background": "light"
     },
     "output_type": "display_data"
    }
   ],
   "source": [
    "g = sns.distplot(ratings.groupby('userId')['movieId'].count(), kde = False, bins = 50)\n",
    "g.set(xlim = (0,2500));"
   ]
  },
  {
   "cell_type": "markdown",
   "metadata": {},
   "source": [
    "How many ratings were submitted per year? The year of 2000 witnessed the highest amount of ratings and there are only 11 ratings in 1995. Most years have rating amount ranging from 10,000 to 30,000."
   ]
  },
  {
   "cell_type": "code",
   "execution_count": 56,
   "metadata": {},
   "outputs": [
    {
     "data": {
      "text/html": [
       "<div>\n",
       "<style scoped>\n",
       "    .dataframe tbody tr th:only-of-type {\n",
       "        vertical-align: middle;\n",
       "    }\n",
       "\n",
       "    .dataframe tbody tr th {\n",
       "        vertical-align: top;\n",
       "    }\n",
       "\n",
       "    .dataframe thead th {\n",
       "        text-align: right;\n",
       "    }\n",
       "</style>\n",
       "<table border=\"1\" class=\"dataframe\">\n",
       "  <thead>\n",
       "    <tr style=\"text-align: right;\">\n",
       "      <th></th>\n",
       "      <th>year</th>\n",
       "      <th>rating</th>\n",
       "    </tr>\n",
       "  </thead>\n",
       "  <tbody>\n",
       "    <tr>\n",
       "      <th>0</th>\n",
       "      <td>1995</td>\n",
       "      <td>11.0</td>\n",
       "    </tr>\n",
       "    <tr>\n",
       "      <th>1</th>\n",
       "      <td>1996</td>\n",
       "      <td>22436.0</td>\n",
       "    </tr>\n",
       "    <tr>\n",
       "      <th>2</th>\n",
       "      <td>1997</td>\n",
       "      <td>11945.0</td>\n",
       "    </tr>\n",
       "    <tr>\n",
       "      <th>3</th>\n",
       "      <td>1998</td>\n",
       "      <td>6523.0</td>\n",
       "    </tr>\n",
       "    <tr>\n",
       "      <th>4</th>\n",
       "      <td>1999</td>\n",
       "      <td>21852.0</td>\n",
       "    </tr>\n",
       "    <tr>\n",
       "      <th>5</th>\n",
       "      <td>2000</td>\n",
       "      <td>50750.0</td>\n",
       "    </tr>\n",
       "    <tr>\n",
       "      <th>6</th>\n",
       "      <td>2001</td>\n",
       "      <td>16309.0</td>\n",
       "    </tr>\n",
       "    <tr>\n",
       "      <th>7</th>\n",
       "      <td>2002</td>\n",
       "      <td>13075.0</td>\n",
       "    </tr>\n",
       "    <tr>\n",
       "      <th>8</th>\n",
       "      <td>2003</td>\n",
       "      <td>15382.0</td>\n",
       "    </tr>\n",
       "    <tr>\n",
       "      <th>9</th>\n",
       "      <td>2004</td>\n",
       "      <td>15821.0</td>\n",
       "    </tr>\n",
       "    <tr>\n",
       "      <th>10</th>\n",
       "      <td>2005</td>\n",
       "      <td>25931.5</td>\n",
       "    </tr>\n",
       "    <tr>\n",
       "      <th>11</th>\n",
       "      <td>2006</td>\n",
       "      <td>26572.0</td>\n",
       "    </tr>\n",
       "    <tr>\n",
       "      <th>12</th>\n",
       "      <td>2007</td>\n",
       "      <td>5409.0</td>\n",
       "    </tr>\n",
       "    <tr>\n",
       "      <th>13</th>\n",
       "      <td>2008</td>\n",
       "      <td>12841.5</td>\n",
       "    </tr>\n",
       "    <tr>\n",
       "      <th>14</th>\n",
       "      <td>2009</td>\n",
       "      <td>11446.0</td>\n",
       "    </tr>\n",
       "    <tr>\n",
       "      <th>15</th>\n",
       "      <td>2010</td>\n",
       "      <td>9359.0</td>\n",
       "    </tr>\n",
       "    <tr>\n",
       "      <th>16</th>\n",
       "      <td>2011</td>\n",
       "      <td>15126.0</td>\n",
       "    </tr>\n",
       "    <tr>\n",
       "      <th>17</th>\n",
       "      <td>2012</td>\n",
       "      <td>13921.0</td>\n",
       "    </tr>\n",
       "    <tr>\n",
       "      <th>18</th>\n",
       "      <td>2013</td>\n",
       "      <td>7038.0</td>\n",
       "    </tr>\n",
       "    <tr>\n",
       "      <th>19</th>\n",
       "      <td>2014</td>\n",
       "      <td>7637.5</td>\n",
       "    </tr>\n",
       "    <tr>\n",
       "      <th>20</th>\n",
       "      <td>2015</td>\n",
       "      <td>23936.0</td>\n",
       "    </tr>\n",
       "    <tr>\n",
       "      <th>21</th>\n",
       "      <td>2016</td>\n",
       "      <td>21053.5</td>\n",
       "    </tr>\n",
       "  </tbody>\n",
       "</table>\n",
       "</div>"
      ],
      "text/plain": [
       "    year   rating\n",
       "0   1995     11.0\n",
       "1   1996  22436.0\n",
       "2   1997  11945.0\n",
       "3   1998   6523.0\n",
       "4   1999  21852.0\n",
       "5   2000  50750.0\n",
       "6   2001  16309.0\n",
       "7   2002  13075.0\n",
       "8   2003  15382.0\n",
       "9   2004  15821.0\n",
       "10  2005  25931.5\n",
       "11  2006  26572.0\n",
       "12  2007   5409.0\n",
       "13  2008  12841.5\n",
       "14  2009  11446.0\n",
       "15  2010   9359.0\n",
       "16  2011  15126.0\n",
       "17  2012  13921.0\n",
       "18  2013   7038.0\n",
       "19  2014   7637.5\n",
       "20  2015  23936.0\n",
       "21  2016  21053.5"
      ]
     },
     "metadata": {},
     "output_type": "display_data"
    },
    {
     "data": {
      "image/png": "[encoded data removed]",
      "text/plain": [
       "<Figure size 432x288 with 1 Axes>"
      ]
     },
     "metadata": {
      "needs_background": "light"
     },
     "output_type": "display_data"
    }
   ],
   "source": [
    "import calendar\n",
    "rating_time = ratings.groupby(['year'])['rating'].sum()\n",
    "rating_time = rating_time.reset_index(level=0)\n",
    "display(rating_time)\n",
    "\n",
    "ax = sns.lineplot(x = 'year', y = 'rating',data = rating_time, sort = False)\n",
    "ax.set_ylabel('The Number of Rating')\n",
    "plt.xticks();"
   ]
  },
  {
   "cell_type": "markdown",
   "metadata": {},
   "source": [
    "Average rating score of each year is approximately constant over the time."
   ]
  },
  {
   "cell_type": "code",
   "execution_count": 57,
   "metadata": {},
   "outputs": [
    {
     "name": "stderr",
     "output_type": "stream",
     "text": [
      "/anaconda3/lib/python3.7/site-packages/seaborn/axisgrid.py:230: UserWarning: The `size` paramter has been renamed to `height`; please update your code.\n",
      "  warnings.warn(msg, UserWarning)\n"
     ]
    },
    {
     "data": {
      "image/png": "[encoded data removed]",
      "text/plain": [
       "<Figure size 432x432 with 1 Axes>"
      ]
     },
     "metadata": {
      "needs_background": "light"
     },
     "output_type": "display_data"
    }
   ],
   "source": [
    "rating_avg = ratings.groupby(['year'])['rating'].agg([np.mean, np.std])\n",
    "rating_avg = rating_avg.reset_index(level = 0)\n",
    "#display(rating_avg)\n",
    "\n",
    "g = sns.FacetGrid(rating_avg, size=6, ylim = (0,6))\n",
    "ax = g.map(plt.errorbar,'year', 'mean', 'std', marker=\"o\", ecolor = 'green')\n",
    "ax.set(xlabel = 'year', ylabel = 'Average ratings')\n",
    "plt.xticks();"
   ]
  },
  {
   "cell_type": "markdown",
   "metadata": {},
   "source": [
    "The number of movies prodcued is significantly increasing."
   ]
  },
  {
   "cell_type": "code",
   "execution_count": 57,
   "metadata": {},
   "outputs": [
    {
     "data": {
      "text/html": [
       "<div>\n",
       "<style scoped>\n",
       "    .dataframe tbody tr th:only-of-type {\n",
       "        vertical-align: middle;\n",
       "    }\n",
       "\n",
       "    .dataframe tbody tr th {\n",
       "        vertical-align: top;\n",
       "    }\n",
       "\n",
       "    .dataframe thead th {\n",
       "        text-align: right;\n",
       "    }\n",
       "</style>\n",
       "<table border=\"1\" class=\"dataframe\">\n",
       "  <thead>\n",
       "    <tr style=\"text-align: right;\">\n",
       "      <th></th>\n",
       "      <th>userId</th>\n",
       "      <th>movieId</th>\n",
       "      <th>rating</th>\n",
       "      <th>timestamp</th>\n",
       "      <th>year</th>\n",
       "      <th>month</th>\n",
       "      <th>Date</th>\n",
       "    </tr>\n",
       "  </thead>\n",
       "  <tbody>\n",
       "    <tr>\n",
       "      <th>52635</th>\n",
       "      <td>383</td>\n",
       "      <td>21</td>\n",
       "      <td>3.0</td>\n",
       "      <td>1995-01-09 11:46:49</td>\n",
       "      <td>1995</td>\n",
       "      <td>1</td>\n",
       "      <td>1995-01-01</td>\n",
       "    </tr>\n",
       "    <tr>\n",
       "      <th>52641</th>\n",
       "      <td>383</td>\n",
       "      <td>47</td>\n",
       "      <td>5.0</td>\n",
       "      <td>1995-01-09 11:46:49</td>\n",
       "      <td>1995</td>\n",
       "      <td>1</td>\n",
       "      <td>1995-01-01</td>\n",
       "    </tr>\n",
       "    <tr>\n",
       "      <th>52684</th>\n",
       "      <td>383</td>\n",
       "      <td>1079</td>\n",
       "      <td>3.0</td>\n",
       "      <td>1995-01-09 11:46:49</td>\n",
       "      <td>1995</td>\n",
       "      <td>1</td>\n",
       "      <td>1995-01-01</td>\n",
       "    </tr>\n",
       "    <tr>\n",
       "      <th>56907</th>\n",
       "      <td>409</td>\n",
       "      <td>21</td>\n",
       "      <td>5.0</td>\n",
       "      <td>1996-03-30 19:00:12</td>\n",
       "      <td>1996</td>\n",
       "      <td>3</td>\n",
       "      <td>1996-03-01</td>\n",
       "    </tr>\n",
       "    <tr>\n",
       "      <th>56909</th>\n",
       "      <td>409</td>\n",
       "      <td>25</td>\n",
       "      <td>4.0</td>\n",
       "      <td>1996-03-30 19:00:12</td>\n",
       "      <td>1996</td>\n",
       "      <td>3</td>\n",
       "      <td>1996-03-01</td>\n",
       "    </tr>\n",
       "  </tbody>\n",
       "</table>\n",
       "</div>"
      ],
      "text/plain": [
       "       userId  movieId  rating           timestamp  year  month       Date\n",
       "52635     383       21     3.0 1995-01-09 11:46:49  1995      1 1995-01-01\n",
       "52641     383       47     5.0 1995-01-09 11:46:49  1995      1 1995-01-01\n",
       "52684     383     1079     3.0 1995-01-09 11:46:49  1995      1 1995-01-01\n",
       "56907     409       21     5.0 1996-03-30 19:00:12  1996      3 1996-03-01\n",
       "56909     409       25     4.0 1996-03-30 19:00:12  1996      3 1996-03-01"
      ]
     },
     "metadata": {},
     "output_type": "display_data"
    },
    {
     "data": {
      "image/png": "[encoded data removed]",
      "text/plain": [
       "<Figure size 432x288 with 1 Axes>"
      ]
     },
     "metadata": {
      "needs_background": "light"
     },
     "output_type": "display_data"
    }
   ],
   "source": [
    "ratings['Date'] = ratings[['year', 'month']].apply(\n",
    "    lambda x: datetime(year=int(x[0]), month=int(x[1]), day=1), axis=1\n",
    ")\n",
    "display(ratings.head())\n",
    "n_users = []\n",
    "n_movies = []\n",
    "dates = np.unique(ratings['Date'])\n",
    "for date in dates:\n",
    "    n_users.append(ratings[ratings['Date'] <= date]['userId'].nunique())\n",
    "    n_movies.append(ratings[ratings['Date'] <= date]['movieId'].nunique())\n",
    "df_users = pd.DataFrame({'Date': dates, '# of Users': n_users}).set_index('Date')\n",
    "df_movies = pd.DataFrame({'Date': dates, '# of Movies': n_movies}).set_index('Date')\n",
    "fig, ax = plt.subplots()\n",
    "df_movies['# of Movies'].plot(style='o-', ax=ax)\n",
    "df_users['# of Users'].plot(style='o-', ax=ax)\n",
    "plt.ylabel('Count')\n",
    "ax.grid(which='minor')\n",
    "plt.tight_layout()\n",
    "plt.legend()\n",
    "plt.show()"
   ]
  },
  {
   "cell_type": "markdown",
   "metadata": {},
   "source": [
    "What is the sparsity of rating matrix?"
   ]
  },
  {
   "cell_type": "code",
   "execution_count": 58,
   "metadata": {},
   "outputs": [
    {
     "data": {
      "text/plain": [
       "Total number of rating                            100004.0\n",
       "Total number of user                                 671.0\n",
       "Total number of movie                               9066.0\n",
       "Maximum rating                                         5.0\n",
       "Minimum rating                                         0.5\n",
       "Maximum number of rating from a user                2391.0\n",
       "Maximum number of recevied rating from a movie       341.0\n",
       "dtype: float64"
      ]
     },
     "execution_count": 58,
     "metadata": {},
     "output_type": "execute_result"
    }
   ],
   "source": [
    "rating_sum = {'Total number of rating': ratings['rating'].count(), \n",
    "              'Total number of user':ratings['userId'].nunique(),\n",
    "              'Total number of movie' : ratings['movieId'].nunique(),\n",
    "              'Maximum rating': ratings['rating'].max(),\n",
    "              'Minimum rating': ratings['rating'].min(),\n",
    "              'Maximum number of rating from a user': ratings.groupby('userId')['rating'].count().max(),\n",
    "              'Maximum number of recevied rating from a movie':ratings.groupby('movieId')['rating'].count().max()}\n",
    "pd.Series(rating_sum)"
   ]
  },
  {
   "cell_type": "markdown",
   "metadata": {},
   "source": [
    "The maximal number of movie ratings from a single user is 2391 which is less than the total number of movies. This indicates that no one rated all movies in the given dataset.The maximal ratings that a movie receive is 341 that is less than the number of users. This indicates every single movie is not rated by every user. In addition, usually, a user would rate a very limited number of movies. Collectively, these facts reveal that the rating matrix is a sparse matrix. Therefore, matrix sparsity has to be solved in collaborative filtering.\n",
    "\n",
    "The sparsity is defined as $$\\rm{Sparsity} = 1 - \\frac{\\rm{Number \\ of \\ ratings}}{\\rm{Number \\ of \\ users * Number \\ of \\ movies}}$$\n",
    "\n",
    "The sparsity of the given dataset is about 98.36%.  "
   ]
  },
  {
   "cell_type": "code",
   "execution_count": 59,
   "metadata": {},
   "outputs": [
    {
     "data": {
      "text/plain": [
       "0.9835608583913366"
      ]
     },
     "execution_count": 59,
     "metadata": {},
     "output_type": "execute_result"
    }
   ],
   "source": [
    "1 - ratings['rating'].count() / (ratings['userId'].nunique() * ratings['movieId'].nunique())"
   ]
  },
  {
   "cell_type": "markdown",
   "metadata": {},
   "source": [
    "Assume a rating matrix $R$ with dimensions of $n\\times m$ where $n$ is the number of users, $m$ is the number of movies and each cell $r_{ui}$ is the rating of movie $i$ by user $u$. The plot below is an illustration of the matrix $R$. The plot shows the sparsity of $R$ as well as old movies (usually with small movie id's) received more ratings."
   ]
  },
  {
   "cell_type": "code",
   "execution_count": 60,
   "metadata": {},
   "outputs": [
    {
     "data": {
      "image/png": "[encoded data removed]",
      "text/plain": [
       "<Figure size 4000x2000 with 1 Axes>"
      ]
     },
     "metadata": {},
     "output_type": "display_data"
    }
   ],
   "source": [
    "rating_matrix = (\n",
    "        pd.pivot_table(\n",
    "            data=ratings,\n",
    "            values='rating',\n",
    "            index='userId',\n",
    "            columns='movieId',\n",
    "        )\n",
    "        .fillna(0)\n",
    "        .values\n",
    "    )\n",
    "from matplotlib.pyplot import figure\n",
    "figure(num=None, figsize=(20, 10), dpi=200, facecolor='w', edgecolor='k')\n",
    "\n",
    "with plt.style.context('seaborn-white'):\n",
    "    rating_matrix_binary = rating_matrix > 0\n",
    "    plt.imshow(rating_matrix_binary)\n",
    "    plt.xlabel('Movie')\n",
    "    plt.ylabel('User')\n",
    "    plt.show()"
   ]
  },
  {
   "cell_type": "markdown",
   "metadata": {},
   "source": [
    "The idea of collaborative filtering recommendation systems is recommending items based on customers' previous behaviors patterns. A collaborative filtering recommender requires historical information about the interaction between a user and items. Rating scores of movies that a user never watched is predicted and then movies are recommended based on predicted scores."
   ]
  },
  {
   "cell_type": "markdown",
   "metadata": {},
   "source": [
    "#### Step 1. Matrix factorization (Singular value decompostion)"
   ]
  },
  {
   "cell_type": "markdown",
   "metadata": {},
   "source": [
    "Shown in the following figure, a rating matrix is decomposed as a user matrix (denote as $p$) and an item matrix (denote as $q$) by SVD."
   ]
  },
  {
   "cell_type": "code",
   "execution_count": 62,
   "metadata": {},
   "outputs": [
    {
     "data": {
      "image/png": "[encoded data removed]",
      "text/plain": [
       "<IPython.core.display.Image object>"
      ]
     },
     "execution_count": 62,
     "metadata": {},
     "output_type": "execute_result"
    }
   ],
   "source": [
    "Image(filename='svd.png')"
   ]
  },
  {
   "cell_type": "markdown",
   "metadata": {},
   "source": [
    "Mathmatically,\n",
    "\n",
    "$$R = p^T \\cdot q$$\n",
    "\n",
    "Where, \n",
    "\n",
    "\n",
    "$R$ is the rating matrix\n",
    "\n",
    "$p$ is the user matrix with dimension $n\\times f$, $n$ is number of users and $f$ is number of features\n",
    "\n",
    "$q$ is the item matrix with dimension $f\\times m$, $m$ is number of movie and $f$ is number of features\n",
    "\n",
    "\n",
    "In the estimated $R$ matrix, the predicted rating score of movie $i$ by user $u$ is:\n",
    "\n",
    "$$\\hat{r}_{ui} =  p_u^T \\cdot q_i$$\n",
    "\n",
    "The estimation error is defined as:\n",
    "\n",
    "$$e_{ui} = r_{ui} - \\hat{r}_{ui}$$\n",
    "\n",
    "The SSE is defined as:\n",
    "\n",
    "$$SSE = \\sum_{u,i}{e_{ui}^2} = \\sum_{u,i}{(r_{ui} - \\hat{r}_{ui}})^2$$ "
   ]
  },
  {
   "cell_type": "markdown",
   "metadata": {},
   "source": [
    "#### Step 2. Optimizing parameters  by stochastic gradient descent (SGD)"
   ]
  },
  {
   "cell_type": "markdown",
   "metadata": {},
   "source": [
    "The predicted rating $r_{ui}$ is defined as:  \n",
    "\n",
    "$$\\hat{r}_{ui} = \\mu + b_u + b_i + p_u^T \\cdot q_i$$\n",
    "\n",
    "Where,\n",
    "\n",
    "$\\mu$ is the overall average rating score,\n",
    "$b_u$ is the bias of user $u$ and $b_i$ is the bias of movie $i$.\n",
    "\n",
    "The loss function, with penality foroverfitting, is introduced:\n",
    "$$\n",
    "L = \\sum_{u,i}(r_{ui} - \\hat{r}_{ui})^2 +\n",
    "  \\lambda_{b_u} \\sum_u \\lVert b_u \\lVert^2 +\n",
    "  \\lambda_{b_i} \\sum_i \\lVert b_i \\lVert^2 +\n",
    "  \\lambda_{p_u} \\sum_u \\lVert \\mathbf{p}_u \\lVert^2 +\n",
    "  \\lambda_{q_i} \\sum_i \\lVert \\mathbf{q}_i \\lVert^2\n",
    "$$\n",
    "\n",
    "\n",
    "SGD is used to seek for optimal parameters that minimize the loss function. The proof can be found for [here](https://blog.insightdatascience.com/explicit-matrix-factorization-als-sgd-and-all-that-jazz-b00e4d9b21ea#d42b). In each iteration, $b_u$, $b_i$, $p_u$, $q_i$ will be updated:\n",
    "\n",
    "$$\n",
    "b_u^{t+1} = b_u^{t} + \\eta (e_{ui} - \\lambda_{b_u}b_u) \\\\\n",
    "b_i^{t+1} = b_i^{t} + \\eta (e_{ui} - \\lambda_{b_i}b_i) \\\\\n",
    "\\mathbf{p}_u^{t+1} = \\mathbf{p}_u^{t} + \\eta (e_{ui} \\mathbf{q}_i - \\lambda_{p_u} \\mathbf{p}_u) \\\\\n",
    "\\mathbf{q}_i^{t+1} = \\mathbf{q}_i^{t} + \\eta (e_{ui} \\mathbf{p}_u - \\lambda_{q_i} \\mathbf{q}_i) \\\\\n",
    "$$\n",
    "\n",
    "where $\\eta$ is the learning rate (a parameter that controls the speed of descent down the gradients) and $e_{ui}$ is the prediction error given by $\\hat{r}_{ui} - r_{ui}$.\n",
    "\n",
    "\n",
    "After certain iterations, it is possible to get optimal $b_u$, $b_i$, $p_u$, $q_i$. Thus, for each $u$ and $i$, we are able to estimate the predicted rating. The performance is evaluated by RMSE:\n",
    "\n",
    "$$RMSE = \\sqrt{\\frac{1}{n} \\sum_{i = 1}^{n}(r_{i} - \\hat{r}_{i})^2}$$\n",
    "\n",
    "Where \n",
    "\n",
    "$r_i$ is the true rating score;  $\\hat{r}_{i}$ is the predicted rating score."
   ]
  },
  {
   "cell_type": "markdown",
   "metadata": {},
   "source": [
    "In the given dataset, each user has rated at least 20 movies which results in a reasonable sparsity of 98.36%. This means that 98.36% of the user-item ratings are missing. The data is split into training and test sets by extracting 10 ratings per user to creat the test set. "
   ]
  },
  {
   "cell_type": "code",
   "execution_count": 63,
   "metadata": {},
   "outputs": [],
   "source": [
    "import random\n",
    "import numpy as np\n",
    "# set seed\n",
    "my_seed = 0\n",
    "random.seed(my_seed)\n",
    "np.random.seed(my_seed)\n",
    "\n",
    "reader = Reader()\n",
    "# Load the movie data\n",
    "data = Dataset.load_from_df(ratings[['userId', 'movieId', 'rating']], reader)\n",
    "all_data = data.raw_ratings\n",
    "\n",
    "# split our data into training and test sets by removing 10 ratings per user in the training set\n",
    "# put 10 ratings in the testing set\n",
    "testing = (ratings.groupby('userId').\n",
    "                apply(lambda obj: obj.loc[np.random.choice(obj.index, size = 10, replace = False),:]))\n",
    "training = ratings.drop(list(testing.reset_index(level = 0, drop = True).index))\n",
    "\n",
    "# read data in the suprise format\n",
    "training_set = Dataset.load_from_df(training[['userId', 'movieId', 'rating']], reader).build_full_trainset()\n",
    "testing_set = Dataset.load_from_df(testing[['userId', 'movieId', 'rating']], reader)"
   ]
  },
  {
   "cell_type": "markdown",
   "metadata": {},
   "source": [
    "Using the Grid Search on training set, the optimal parameters and corresponding RMSE on training set and testing set can be obtained."
   ]
  },
  {
   "cell_type": "code",
   "execution_count": 85,
   "metadata": {},
   "outputs": [
    {
     "name": "stdout",
     "output_type": "stream",
     "text": [
      "Grid Search...\n",
      "Biased accuracy on Training set,   RMSE: 0.5364\n",
      "Unbiased accuracy on Testing set, RMSE: 0.5364\n"
     ]
    }
   ],
   "source": [
    "# Select your best algo with grid search.\n",
    "print('Grid Search...')\n",
    "param_grid = {'n_epochs': [10, 15, 20], \n",
    "              'lr_all': [0.005, 0.01, 0.1], \n",
    "              'reg_bu': [0.001, 0.02],\n",
    "              'reg_bi': [0.001, 0.02],\n",
    "              'reg_pu': [0.01, 0.05], \n",
    "              'reg_qi': [0.01, 0.05]}\n",
    "grid_search = GridSearchCV(SVD, param_grid, measures=['rmse'], cv=3, n_jobs = -1)\n",
    "grid_search.fit(data)\n",
    "\n",
    "gs_algo = grid_search.best_estimator['rmse']\n",
    "\n",
    "# Fit the training data\n",
    "gs_algo.fit(training_set)\n",
    "\n",
    "# Compute the RMSE on the training set\n",
    "gs_predictions = gs_algo.test(trainset.build_testset())\n",
    "print('Biased accuracy on Training set,', end='   ')\n",
    "accuracy.rmse(predictions)\n",
    "\n",
    "# Compute THE RMSE on the testing set\n",
    "testset = data.construct_testset(testing_set.raw_ratings) \n",
    "gs_predictions = algo.test(testset)\n",
    "print('Unbiased accuracy on Testing set,', end=' ')\n",
    "accuracy.rmse(predictions);"
   ]
  },
  {
   "cell_type": "code",
   "execution_count": 86,
   "metadata": {},
   "outputs": [
    {
     "data": {
      "text/plain": [
       "{'rmse': {'n_epochs': 20,\n",
       "  'lr_all': 0.01,\n",
       "  'reg_bu': 0.02,\n",
       "  'reg_bi': 0.02,\n",
       "  'reg_pu': 0.05,\n",
       "  'reg_qi': 0.05}}"
      ]
     },
     "execution_count": 86,
     "metadata": {},
     "output_type": "execute_result"
    }
   ],
   "source": [
    "grid_search.best_params"
   ]
  },
  {
   "cell_type": "code",
   "execution_count": 64,
   "metadata": {},
   "outputs": [],
   "source": [
    "from collections import defaultdict\n",
    "\n",
    "def get_top_n(predictions, n=10):\n",
    "    '''Return the top-N recommendation for each user from a set of predictions.\n",
    "\n",
    "    Args:\n",
    "        predictions(list of Prediction objects): The list of predictions, as\n",
    "            returned by the test method of an algorithm.\n",
    "        n(int): The number of recommendation to output for each user. Default\n",
    "            is 10.\n",
    "\n",
    "    Returns:\n",
    "    A dict where keys are user (raw) ids and values are lists of tuples:\n",
    "        [(raw item id, rating estimation), ...] of size n.\n",
    "    '''\n",
    "\n",
    "    # First map the predictions to each user.\n",
    "    top_n = defaultdict(list)\n",
    "    for uid, iid, true_r, est, _ in predictions:\n",
    "        top_n[uid].append((iid, est))\n",
    "\n",
    "    # Then sort the predictions for each user and retrieve the k highest ones.\n",
    "    for uid, user_ratings in top_n.items():\n",
    "        user_ratings.sort(key=lambda x: x[1], reverse=True)\n",
    "        top_n[uid] = user_ratings[:n]\n",
    "\n",
    "    return top_n\n"
   ]
  },
  {
   "cell_type": "code",
   "execution_count": 66,
   "metadata": {},
   "outputs": [],
   "source": [
    "# First train an SVD algorithm on the movielens dataset.\n",
    "trainset = data.build_full_trainset()\n",
    "algo = SVD(n_epochs= 20, lr_all= 0.01, reg_bu= 0.02, reg_bi= 0.02, reg_pu= 0.05,reg_qi= 0.05)\n",
    "algo.fit(trainset)\n",
    "\n",
    "# Than predict ratings for all pairs (u, i) that are NOT in the training set.\n",
    "testset = trainset.build_anti_testset()\n",
    "predictions = algo.test(testset)\n",
    "\n",
    "# get all top 10 movies for each user\n",
    "top_n = get_top_n(predictions, n=10)"
   ]
  },
  {
   "cell_type": "code",
   "execution_count": 69,
   "metadata": {},
   "outputs": [],
   "source": [
    "def recommender(user_id, top_num = 10):\n",
    "    global top_n\n",
    "    \n",
    "    # create the dataframe\n",
    "    result = pd.DataFrame(top_n.get(user_id), columns = ['movie_id', 'estimated_rating_score'])\n",
    "    result['title']= movies.iloc[result.index.values]['title'].tolist()\n",
    "    result = result[['title', 'estimated_rating_score']]\n",
    "    \n",
    "    return result"
   ]
  },
  {
   "cell_type": "markdown",
   "metadata": {},
   "source": [
    "For a user with ID 308, based on his/her preferences, recommended movies are:"
   ]
  },
  {
   "cell_type": "code",
   "execution_count": 70,
   "metadata": {},
   "outputs": [
    {
     "data": {
      "text/html": [
       "<div>\n",
       "<style scoped>\n",
       "    .dataframe tbody tr th:only-of-type {\n",
       "        vertical-align: middle;\n",
       "    }\n",
       "\n",
       "    .dataframe tbody tr th {\n",
       "        vertical-align: top;\n",
       "    }\n",
       "\n",
       "    .dataframe thead th {\n",
       "        text-align: right;\n",
       "    }\n",
       "</style>\n",
       "<table border=\"1\" class=\"dataframe\">\n",
       "  <thead>\n",
       "    <tr style=\"text-align: right;\">\n",
       "      <th></th>\n",
       "      <th>title</th>\n",
       "      <th>estimated_rating_score</th>\n",
       "    </tr>\n",
       "  </thead>\n",
       "  <tbody>\n",
       "    <tr>\n",
       "      <th>0</th>\n",
       "      <td>Toy Story</td>\n",
       "      <td>4.947245</td>\n",
       "    </tr>\n",
       "    <tr>\n",
       "      <th>1</th>\n",
       "      <td>Jumanji</td>\n",
       "      <td>4.685178</td>\n",
       "    </tr>\n",
       "    <tr>\n",
       "      <th>2</th>\n",
       "      <td>Grumpier Old Men</td>\n",
       "      <td>4.680560</td>\n",
       "    </tr>\n",
       "    <tr>\n",
       "      <th>3</th>\n",
       "      <td>Waiting to Exhale</td>\n",
       "      <td>4.656898</td>\n",
       "    </tr>\n",
       "    <tr>\n",
       "      <th>4</th>\n",
       "      <td>Father of the Bride Part II</td>\n",
       "      <td>4.654641</td>\n",
       "    </tr>\n",
       "    <tr>\n",
       "      <th>5</th>\n",
       "      <td>Heat</td>\n",
       "      <td>4.635356</td>\n",
       "    </tr>\n",
       "    <tr>\n",
       "      <th>6</th>\n",
       "      <td>Sabrina</td>\n",
       "      <td>4.632835</td>\n",
       "    </tr>\n",
       "    <tr>\n",
       "      <th>7</th>\n",
       "      <td>Tom and Huck</td>\n",
       "      <td>4.599471</td>\n",
       "    </tr>\n",
       "    <tr>\n",
       "      <th>8</th>\n",
       "      <td>Sudden Death</td>\n",
       "      <td>4.595937</td>\n",
       "    </tr>\n",
       "    <tr>\n",
       "      <th>9</th>\n",
       "      <td>GoldenEye</td>\n",
       "      <td>4.580992</td>\n",
       "    </tr>\n",
       "  </tbody>\n",
       "</table>\n",
       "</div>"
      ],
      "text/plain": [
       "                         title  estimated_rating_score\n",
       "0                    Toy Story                4.947245\n",
       "1                      Jumanji                4.685178\n",
       "2             Grumpier Old Men                4.680560\n",
       "3            Waiting to Exhale                4.656898\n",
       "4  Father of the Bride Part II                4.654641\n",
       "5                         Heat                4.635356\n",
       "6                      Sabrina                4.632835\n",
       "7                 Tom and Huck                4.599471\n",
       "8                 Sudden Death                4.595937\n",
       "9                    GoldenEye                4.580992"
      ]
     },
     "execution_count": 70,
     "metadata": {},
     "output_type": "execute_result"
    }
   ],
   "source": [
    "recommender(308)"
   ]
  },
  {
   "cell_type": "markdown",
   "metadata": {},
   "source": [
    "#### Test performaces under different parameters in the training set and testing set:"
   ]
  },
  {
   "cell_type": "code",
   "execution_count": 71,
   "metadata": {},
   "outputs": [
    {
     "name": "stdout",
     "output_type": "stream",
     "text": [
      "Unbiased accuracy on Testing set, RMSE: 0.9213\n",
      "Unbiased accuracy on Testing set, RMSE: 0.9178\n",
      "Unbiased accuracy on Testing set, RMSE: 0.9135\n",
      "Unbiased accuracy on Testing set, RMSE: 0.9145\n",
      "Unbiased accuracy on Testing set, RMSE: 0.9153\n",
      "Unbiased accuracy on Testing set, RMSE: 0.9125\n",
      "Unbiased accuracy on Testing set, RMSE: 0.9089\n",
      "Unbiased accuracy on Testing set, RMSE: 0.9142\n",
      "Unbiased accuracy on Testing set, RMSE: 0.9125\n",
      "Unbiased accuracy on Testing set, RMSE: 0.9101\n",
      "Unbiased accuracy on Testing set, RMSE: 0.9125\n",
      "Unbiased accuracy on Testing set, RMSE: 0.9145\n"
     ]
    }
   ],
   "source": [
    "# test for different factors\n",
    "test_factors = []\n",
    "for n in range(2,120,10):\n",
    "    test_algo = SVD(n_epochs= 20, n_factors = n, lr_all= 0.01, reg_bu= 0.02, reg_bi= 0.02, \n",
    "                    reg_pu= 0.05,reg_qi= 0.05, random_state = 5)\n",
    "    test_algo.fit(training_set)\n",
    "    \n",
    "    # Compute the RMSE on the testing set\n",
    "    testset = data.construct_testset(testing_set.raw_ratings) \n",
    "    test_pred = test_algo.test(testset)\n",
    "    print('Unbiased accuracy on Testing set,', end=' ')\n",
    "    test_factors.append(accuracy.rmse(test_pred));"
   ]
  },
  {
   "cell_type": "markdown",
   "metadata": {},
   "source": [
    "The plot shows that 60 is the optimal number of features for a minimal $RMSE$."
   ]
  },
  {
   "cell_type": "code",
   "execution_count": 72,
   "metadata": {},
   "outputs": [
    {
     "data": {
      "image/png": "[encoded data removed]",
      "text/plain": [
       "<Figure size 432x288 with 1 Axes>"
      ]
     },
     "metadata": {
      "needs_background": "light"
     },
     "output_type": "display_data"
    }
   ],
   "source": [
    "plt.plot(list(range(2,120,10)), test_factors, '*')\n",
    "plt.xlabel('the number of factors')\n",
    "plt.ylabel('RMSE');"
   ]
  },
  {
   "cell_type": "markdown",
   "metadata": {},
   "source": [
    "$RMSE$ would not decrease after 18 epoches in the testing set and keep decreasing with increasing epoches."
   ]
  },
  {
   "cell_type": "code",
   "execution_count": 73,
   "metadata": {},
   "outputs": [
    {
     "name": "stdout",
     "output_type": "stream",
     "text": [
      "Biased accuracy on Training set,   RMSE: 1.0631\n",
      "Unbiased accuracy on Testing set, RMSE: 1.0847\n",
      "Biased accuracy on Training set,   RMSE: 0.7742\n",
      "Unbiased accuracy on Testing set, RMSE: 0.9250\n",
      "Biased accuracy on Training set,   RMSE: 0.6162\n",
      "Unbiased accuracy on Testing set, RMSE: 0.9147\n",
      "Biased accuracy on Training set,   RMSE: 0.5194\n",
      "Unbiased accuracy on Testing set, RMSE: 0.9132\n",
      "Biased accuracy on Training set,   RMSE: 0.4697\n",
      "Unbiased accuracy on Testing set, RMSE: 0.9136\n",
      "Biased accuracy on Training set,   RMSE: 0.4422\n",
      "Unbiased accuracy on Testing set, RMSE: 0.9138\n",
      "Biased accuracy on Training set,   RMSE: 0.4257\n",
      "Unbiased accuracy on Testing set, RMSE: 0.9138\n",
      "Biased accuracy on Training set,   RMSE: 0.4151\n",
      "Unbiased accuracy on Testing set, RMSE: 0.9137\n",
      "Biased accuracy on Training set,   RMSE: 0.4078\n",
      "Unbiased accuracy on Testing set, RMSE: 0.9135\n",
      "Biased accuracy on Training set,   RMSE: 0.4027\n",
      "Unbiased accuracy on Testing set, RMSE: 0.9132\n"
     ]
    }
   ],
   "source": [
    "tran_epoches = []\n",
    "test_epoches = []\n",
    "for n in range(0,100,10):\n",
    "    test_algo = SVD(n_epochs= n, n_factors = 100, lr_all= 0.01, reg_bu= 0.02, reg_bi= 0.02, \n",
    "                    reg_pu= 0.05,reg_qi= 0.05, random_state = 5)\n",
    "    test_algo.fit(training_set)\n",
    "    \n",
    "    # Compute the RMSE on the training set\n",
    "    tran_pred = test_algo.test(trainset.build_testset())\n",
    "    print('Biased accuracy on Training set,', end='   ')\n",
    "    tran_epoches.append(accuracy.rmse(tran_pred))\n",
    "    \n",
    "    # Compute THE RMSE on the testing set\n",
    "    testset = data.construct_testset(testing_set.raw_ratings) \n",
    "    test_pred = test_algo.test(testset)\n",
    "    print('Unbiased accuracy on Testing set,', end=' ')\n",
    "    test_epoches.append(accuracy.rmse(test_pred));"
   ]
  },
  {
   "cell_type": "code",
   "execution_count": 74,
   "metadata": {},
   "outputs": [
    {
     "data": {
      "image/png": "[encoded data removed]",
      "text/plain": [
       "<Figure size 432x288 with 1 Axes>"
      ]
     },
     "metadata": {
      "needs_background": "light"
     },
     "output_type": "display_data"
    }
   ],
   "source": [
    "plt.plot(list(range(0,100,10)), tran_epoches, label='training set')\n",
    "plt.plot(list(range(0,100,10)), test_epoches, label='testing set')\n",
    "plt.legend()\n",
    "plt.show()"
   ]
  },
  {
   "cell_type": "markdown",
   "metadata": {},
   "source": [
    "### 4.4 Hybrid system"
   ]
  },
  {
   "cell_type": "markdown",
   "metadata": {},
   "source": [
    "Considering the fact that each recommender has its own strengths and weaknesses, a hybrid system that incorporates popularity-based, content-based and collaborative filtering recommenders is built. With an input user information containing the user and his/her movie ratings, the system will compute three scores using these three recommenders and then calculate a weighted score based on given weights. Then, movies are recommended based on weighted scores.\n",
    "\n",
    "The following \"popularity\" function is operating basically the same as the popularity recommender in Section 3 with minor changes in input and output for the convenience of building the hybrid system. Same for \"content_base\" and \"SGD\" function below."
   ]
  },
  {
   "cell_type": "code",
   "execution_count": 75,
   "metadata": {},
   "outputs": [],
   "source": [
    "# popularity based recommender for hybrid recommender\n",
    "def popularity(df, m):\n",
    "    \"\"\"\n",
    "    df: movie pandas dataframe\n",
    "    quan: the minimal vote count to be considered, 0<=quan<1\n",
    "    topk: the number of recommended movies\n",
    "    \"\"\"\n",
    "    if 'vote_count' in df.columns and 'vote_average' in df.columns and 'title' in df.columns:\n",
    "\n",
    "        C = df[df['vote_average'].notnull()]['vote_average'].mean() # overall average rating\n",
    "        # m = df[df['vote_count'].notnull()]['vote_count'].quantile(quan) # minimal vote count to consider\n",
    "\n",
    "        # extract qualified subset\n",
    "        if 'release_date' in df.columns and 'genres' in df.columns: \n",
    "            df_sub = df[['id', 'title', 'release_date', 'genres','vote_count', 'vote_average']]\n",
    "        else:\n",
    "            df_sub = df[['id', 'title', 'vote_count', 'vote_average']]\n",
    "\n",
    "        # compute weighted rating\n",
    "        df_sub['wr'] = df_sub.apply(lambda x: x['vote_count']/(x['vote_count']+m)*x['vote_average']+\n",
    "                                   m/(x['vote_count']+m)*C, axis=1)\n",
    "\n",
    "        # sort movies with weighted rating\n",
    "        return df_sub.sort_values('wr', ascending=False)\n",
    "                  \n",
    "    else:\n",
    "        raise Exception(\"'df' does not contain required columns.\")"
   ]
  },
  {
   "cell_type": "code",
   "execution_count": 76,
   "metadata": {},
   "outputs": [],
   "source": [
    "def content_based(user):\n",
    "    #     find movie index\n",
    "    ID = movies[movies['title'].isin(list(user[1].keys()))].index.tolist()\n",
    "    rows = simMtx[ID]\n",
    "#     compute average similarity score\n",
    "    avg_sim = pd.DataFrame({'sim':rows.mean(axis=0)})\n",
    "#     from index find movie title and release date\n",
    "    avg_sim[['movieID']]= movies[['id']]\n",
    "    return avg_sim"
   ]
  },
  {
   "cell_type": "code",
   "execution_count": 77,
   "metadata": {},
   "outputs": [],
   "source": [
    "# set seed\n",
    "my_seed = 0\n",
    "random.seed(my_seed)\n",
    "np.random.seed(my_seed)\n",
    "\n",
    "def SGD(user1):\n",
    "    \n",
    "    global movies\n",
    "    global ratings\n",
    "    \n",
    "    reader = Reader()\n",
    "    user_id = user1[0]\n",
    "    m_id = ratings.movieId.unique()\n",
    "    \n",
    "    \n",
    "    if user_id in ratings.userId.unique():\n",
    "        \n",
    "        data = Dataset.load_from_df(ratings[['userId', 'movieId', 'rating']], reader)\n",
    "        trainset = data.build_full_trainset()\n",
    "        algo = SVD(n_epochs= 20, lr_all= 0.01, reg_bu= 0.02, reg_bi= 0.02, reg_pu= 0.05,reg_qi= 0.05)\n",
    "        algo.fit(trainset)\n",
    "        result = [algo.predict(user_id, i, verbose=False) for i in m_id]\n",
    "        \n",
    "        return result\n",
    "        \n",
    "        \n",
    "    else:\n",
    "        \n",
    "        keys = list(user1[1].keys())\n",
    "        # find the all titles in movies dataframe\n",
    "        movies_revised = movies.loc[movies.title.drop_duplicates().index]\n",
    "        movies_id = movies_revised.id[movies_revised.title.isin(keys)]\n",
    "\n",
    "        # get all possible ratings in links_small\n",
    "        link_id = link['movieId'][link['tmdbId'].isin(movies_id)]\n",
    "        final_id = list(m_id[pd.Series(m_id).isin(link_id)])\n",
    "        final_key = combine_df[combine_df.movieId.isin(final_id)].title\n",
    "        final_value = [user1[1].get(key) for key in final_key]\n",
    "        n = len(final_value)\n",
    "\n",
    "        # form the dataframe\n",
    "        user_df = pd.DataFrame({'userId' : [user_id] * n, \n",
    "                                 'movieId' : final_id, \n",
    "                                 'rating':  final_value})\n",
    "        if user_df.shape[0] == 0:\n",
    "            result = str('No available movies in dataset!')\n",
    "            return(result)\n",
    "            \n",
    "        else:\n",
    "        \n",
    "            # combine together\n",
    "            new_df = pd.concat([user_df, ratings.iloc[:, 0:3]])\n",
    "            # fit into suprise dataframe\n",
    "            new_data = Dataset.load_from_df(new_df[['userId', 'movieId', 'rating']], reader).build_full_trainset()\n",
    "\n",
    "\n",
    "            # set the algorithm\n",
    "            algo1 = SVD(n_epochs= 20, lr_all= 0.01, reg_bu= 0.02, reg_bi= 0.02, reg_pu= 0.05,reg_qi= 0.05)\n",
    "            algo1.fit(new_data)\n",
    "\n",
    "            #if user_id in ratings.userId.unique():\n",
    "            result = [algo1.predict(user_id, i, verbose=False) for i in m_id]\n",
    "\n",
    "            return pd.DataFrame(result)"
   ]
  },
  {
   "cell_type": "code",
   "execution_count": 78,
   "metadata": {},
   "outputs": [],
   "source": [
    "def hybrid(user, weights=[1,0,0], topk=10):\n",
    "    \"\"\"\n",
    "    user: user data\n",
    "    quan: the minimal vote count to be considered, 0<=quan<1\n",
    "    topk: the number of recommended movies\n",
    "    weights: [w1, w2, w3], weight for each recommender\n",
    "    \"\"\"\n",
    "    \n",
    "    # popularity based\n",
    "    quan = 0.2\n",
    "    m = movies[movies['vote_count'].notnull()]['vote_count'].quantile(quan)\n",
    "    pop = popularity(movies, m)\n",
    "    # standarize\n",
    "    pop['wr'] = (pop['wr']-pop['wr'].min())/(pop['wr'].max()-pop['wr'].min())\n",
    "    # if vote_count<m, popularity score=0\n",
    "    pop.loc[pop['vote_count']<m, 'wr']=0\n",
    "    \n",
    "    # content based\n",
    "    content = content_based(user)\n",
    "    content['sim'] = (content['sim']-content['sim'].min())/(content['sim'].max()-content['sim'].min())\n",
    "    \n",
    "    # collaborative filtering\n",
    "    cf = pd.DataFrame(SGD(user))\n",
    "    cf['est'] = (cf['est']-cf['est'].min())/(cf['est'].max()-cf['est'].min())\n",
    "    \n",
    "    # put three scores together\n",
    "    scores = pop.copy()\n",
    "    scores = scores.merge(content, left_on='id', right_on='movieID', how=\"left\")\n",
    "    cf = cf.merge(combine_df, left_on='iid', right_on='movieId', how=\"left\")\n",
    "    scores = cf.merge(scores, right_on='movieID', left_on='tmdbId')\n",
    "    scores = scores[['title_y', 'release_date', 'wr', 'sim', 'est']]\n",
    "    # weighted score\n",
    "    scores['score'] = weights[0]*scores['wr']+weights[1]*scores['sim']+weights[2]*scores['est']\n",
    "    scores.rename(columns={'title_y':'title', 'wr': 'popularity', 'sim': 'similarity', 'est': 'collaborative'},inplace=True)\n",
    "    # filter out watched movie\n",
    "    scores = scores[~scores[\"title\"].isin(list(user[1].keys()))]\n",
    "    \n",
    "    return scores.sort_values('score', ascending=False).head(topk)"
   ]
  },
  {
   "cell_type": "markdown",
   "metadata": {},
   "source": [
    "#### An interactive interface demo"
   ]
  },
  {
   "cell_type": "code",
   "execution_count": 79,
   "metadata": {},
   "outputs": [],
   "source": [
    "import ipywidgets as widgets"
   ]
  },
  {
   "cell_type": "markdown",
   "metadata": {},
   "source": [
    "Hypothetical user information is created to test the proposed hybrid recommendation system."
   ]
  },
  {
   "cell_type": "code",
   "execution_count": 80,
   "metadata": {},
   "outputs": [],
   "source": [
    "# test data\n",
    "user1 = [12324, {\"The Avengers\": 4, \"Iron Man\":3.5, \"Captain America: The First Avenger\": 4}]\n",
    "user2 = [124354, {\"Inside Out\": 4, \"Frozen\":3, \"Tangled\": 4, 'Peter Pan': 3.5, 'Dead Man Walking': 2}]\n",
    "user3 = [233333, {\"Inception\": 4, \"Interstellar\":3, \"The Dark Knight\": 4}]\n",
    "users = [user1, user2, user3]\n",
    "weights = [[1,0,0], [0,1,0], [.33, .33, .34]]"
   ]
  },
  {
   "cell_type": "code",
   "execution_count": 81,
   "metadata": {},
   "outputs": [],
   "source": [
    "menu = widgets.Dropdown(\n",
    "    options=[('1', 0), ('2', 1), ('3', 2)],\n",
    "    value=0,\n",
    "    description='User:',\n",
    "    disabled=False\n",
    ")\n",
    "\n",
    "menu2 = widgets.Dropdown(\n",
    "    options=[('(1,0,0)', 0), ('(0,1,0)', 1), ('(0.33, 0.33, 0.34)', 2)],\n",
    "    value=1,\n",
    "    description='Weights:',\n",
    "    disabled=False\n",
    ")\n",
    "\n",
    "num = widgets.IntText(\n",
    "    value=5,\n",
    "    description='Top k:',\n",
    "    disabled=False\n",
    ")\n",
    "\n",
    "ui = widgets.HBox([menu, menu2, num])"
   ]
  },
  {
   "cell_type": "code",
   "execution_count": 82,
   "metadata": {
    "scrolled": true
   },
   "outputs": [
    {
     "data": {
      "application/vnd.jupyter.widget-view+json": {
       "model_id": "b095e87294e6465f9133f59160dabbf1",
       "version_major": 2,
       "version_minor": 0
      },
      "text/plain": [
       "HBox(children=(Dropdown(description='User:', options=(('1', 0), ('2', 1), ('3', 2)), value=0), Dropdown(descri…"
      ]
     },
     "metadata": {},
     "output_type": "display_data"
    },
    {
     "data": {
      "application/vnd.jupyter.widget-view+json": {
       "model_id": "56eca619808249278db5f4fa24ba9a45",
       "version_major": 2,
       "version_minor": 0
      },
      "text/plain": [
       "Output()"
      ]
     },
     "metadata": {},
     "output_type": "display_data"
    }
   ],
   "source": [
    "def f1(menu, menu2, num):\n",
    "    pd.set_option('display.max_columns', None)\n",
    "    df = hybrid(users[menu], weights[menu2], num)\n",
    "    print(\"User \" + str(menu+1) + \": \", users[menu], \"\\n\", df)\n",
    "\n",
    "out = widgets.interactive_output(f1, {'menu': menu, 'menu2': menu2, 'num': num})\n",
    "\n",
    "display(ui, out)"
   ]
  },
  {
   "cell_type": "markdown",
   "metadata": {},
   "source": [
    "## 5. Conclusions"
   ]
  },
  {
   "cell_type": "markdown",
   "metadata": {},
   "source": [
    "This project is interested in constructing an informative movie recommender system to provide valuable movie suggestion tailored to specific users but also considering movie contents and popularity. Exploratory data analysis is conducted to investigate the movie and user rating datasets. The data are also pre-processed and cleaned. A popularity-based recommendation system is constructed to primarily consider movie popularity. Movies with similar contents are recommended by a content-based recommender. A collaborative filtering system is created to suggest movies by predicting missing users’ ratings. Finally, a hybrid system combining the above three systems through customized weights is proposed. \n",
    "\n",
    "Experimental results show that the proposed recommender can offer meaningful movie recommendations based on a user’s preference on movie popularity, contents and ratings. \n"
   ]
  },
  {
   "cell_type": "markdown",
   "metadata": {},
   "source": [
    "## References"
   ]
  },
  {
   "cell_type": "markdown",
   "metadata": {},
   "source": [
    "Ahmed, I. (February 2019). The Age of Recommender Systems. Retrieved June 8, 2019 from https://www.kaggle.com/ibtesama/getting-started-with-a-movie-recommendation-system.\n",
    "\n",
    "Banik, R. (June 2017). Movies Recommender System. Retrieved June 8, 2019 from https://www.kaggle.com/rounakbanik/movie-recommender-systems\n",
    "\n",
    "Daniel, F. (July 2017). Film recommendation engine. Retrieved June 8, 2019 from https://www.kaggle.com/fabiendaniel/film-recommendation-engine.\n",
    "\n",
    "Ghosh, S. (Mar 2018). Simple Matrix Factorization example on the Movielens dataset using Pyspark. Retrieved June 8, 2019 from https://medium.com/@connectwithghosh/simple-matrix-factorization-example-on-the-movielens-dataset-using-pyspark-9b7e3f567536\n",
    "\n",
    "The Movies Dataset. (2017).  Retrieved June 8, 2019 from https://www.kaggle.com/rounakbanik/the-movies-dataset.\n",
    "\n",
    "Akshi Kumar & Abhilasha Sharma (2013). Alleviating Sparsity and Scalability Issues in Collaborative Filtering Based Recommender Systems, Part of the Advances in Intelligent Systems and Computing book series (AISC, volume 199)"
   ]
  }
 ],
 "metadata": {
  "kernelspec": {
   "display_name": "Python 3",
   "language": "python",
   "name": "python3"
  },
  "language_info": {
   "codemirror_mode": {
    "name": "ipython",
    "version": 3
   },
   "file_extension": ".py",
   "mimetype": "text/x-python",
   "name": "python",
   "nbconvert_exporter": "python",
   "pygments_lexer": "ipython3",
   "version": "3.7.1"
  }
 },
 "nbformat": 4,
 "nbformat_minor": 2
}
